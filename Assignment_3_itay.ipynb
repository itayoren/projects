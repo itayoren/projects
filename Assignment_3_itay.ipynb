{
  "nbformat": 4,
  "nbformat_minor": 0,
  "metadata": {
    "accelerator": "GPU",
    "colab": {
      "name": "Assignment_3_itay.ipynb",
      "provenance": [],
      "collapsed_sections": [
        "AUr2VfBuddNw"
      ],
      "toc_visible": true
    },
    "kernelspec": {
      "display_name": "Python 3",
      "name": "python3"
    },
    "widgets": {
      "application/vnd.jupyter.widget-state+json": {
        "51265d2362334931b99f5d1c46e4f20e": {
          "model_module": "@jupyter-widgets/controls",
          "model_name": "HBoxModel",
          "model_module_version": "1.5.0",
          "state": {
            "_view_name": "HBoxView",
            "_dom_classes": [],
            "_model_name": "HBoxModel",
            "_view_module": "@jupyter-widgets/controls",
            "_model_module_version": "1.5.0",
            "_view_count": null,
            "_view_module_version": "1.5.0",
            "box_style": "",
            "layout": "IPY_MODEL_751ca4025fab413db6c17f63094fa9f7",
            "_model_module": "@jupyter-widgets/controls",
            "children": [
              "IPY_MODEL_0b13a8152ffb4e059cf83feef129e7d0",
              "IPY_MODEL_9a825fc08c8949eca340ee03ec4e0397"
            ]
          }
        },
        "751ca4025fab413db6c17f63094fa9f7": {
          "model_module": "@jupyter-widgets/base",
          "model_name": "LayoutModel",
          "model_module_version": "1.2.0",
          "state": {
            "_view_name": "LayoutView",
            "grid_template_rows": null,
            "right": null,
            "justify_content": null,
            "_view_module": "@jupyter-widgets/base",
            "overflow": null,
            "_model_module_version": "1.2.0",
            "_view_count": null,
            "flex_flow": null,
            "width": null,
            "min_width": null,
            "border": null,
            "align_items": null,
            "bottom": null,
            "_model_module": "@jupyter-widgets/base",
            "top": null,
            "grid_column": null,
            "overflow_y": null,
            "overflow_x": null,
            "grid_auto_flow": null,
            "grid_area": null,
            "grid_template_columns": null,
            "flex": null,
            "_model_name": "LayoutModel",
            "justify_items": null,
            "grid_row": null,
            "max_height": null,
            "align_content": null,
            "visibility": null,
            "align_self": null,
            "height": null,
            "min_height": null,
            "padding": null,
            "grid_auto_rows": null,
            "grid_gap": null,
            "max_width": null,
            "order": null,
            "_view_module_version": "1.2.0",
            "grid_template_areas": null,
            "object_position": null,
            "object_fit": null,
            "grid_auto_columns": null,
            "margin": null,
            "display": null,
            "left": null
          }
        },
        "0b13a8152ffb4e059cf83feef129e7d0": {
          "model_module": "@jupyter-widgets/controls",
          "model_name": "FloatProgressModel",
          "model_module_version": "1.5.0",
          "state": {
            "_view_name": "ProgressView",
            "style": "IPY_MODEL_3a54517e6db847509c132b4f54d166aa",
            "_dom_classes": [],
            "description": "Downloading: 100%",
            "_model_name": "FloatProgressModel",
            "bar_style": "success",
            "max": 433,
            "_view_module": "@jupyter-widgets/controls",
            "_model_module_version": "1.5.0",
            "value": 433,
            "_view_count": null,
            "_view_module_version": "1.5.0",
            "orientation": "horizontal",
            "min": 0,
            "description_tooltip": null,
            "_model_module": "@jupyter-widgets/controls",
            "layout": "IPY_MODEL_cd86862ecc984dff8939d98f302ffaec"
          }
        },
        "9a825fc08c8949eca340ee03ec4e0397": {
          "model_module": "@jupyter-widgets/controls",
          "model_name": "HTMLModel",
          "model_module_version": "1.5.0",
          "state": {
            "_view_name": "HTMLView",
            "style": "IPY_MODEL_3ce3a8c9de954669bce926d2d41d8472",
            "_dom_classes": [],
            "description": "",
            "_model_name": "HTMLModel",
            "placeholder": "​",
            "_view_module": "@jupyter-widgets/controls",
            "_model_module_version": "1.5.0",
            "value": " 433/433 [00:00&lt;00:00, 7.51kB/s]",
            "_view_count": null,
            "_view_module_version": "1.5.0",
            "description_tooltip": null,
            "_model_module": "@jupyter-widgets/controls",
            "layout": "IPY_MODEL_c7eb5f1d53324c1094def93f9c8030cb"
          }
        },
        "3a54517e6db847509c132b4f54d166aa": {
          "model_module": "@jupyter-widgets/controls",
          "model_name": "ProgressStyleModel",
          "model_module_version": "1.5.0",
          "state": {
            "_view_name": "StyleView",
            "_model_name": "ProgressStyleModel",
            "description_width": "initial",
            "_view_module": "@jupyter-widgets/base",
            "_model_module_version": "1.5.0",
            "_view_count": null,
            "_view_module_version": "1.2.0",
            "bar_color": null,
            "_model_module": "@jupyter-widgets/controls"
          }
        },
        "cd86862ecc984dff8939d98f302ffaec": {
          "model_module": "@jupyter-widgets/base",
          "model_name": "LayoutModel",
          "model_module_version": "1.2.0",
          "state": {
            "_view_name": "LayoutView",
            "grid_template_rows": null,
            "right": null,
            "justify_content": null,
            "_view_module": "@jupyter-widgets/base",
            "overflow": null,
            "_model_module_version": "1.2.0",
            "_view_count": null,
            "flex_flow": null,
            "width": null,
            "min_width": null,
            "border": null,
            "align_items": null,
            "bottom": null,
            "_model_module": "@jupyter-widgets/base",
            "top": null,
            "grid_column": null,
            "overflow_y": null,
            "overflow_x": null,
            "grid_auto_flow": null,
            "grid_area": null,
            "grid_template_columns": null,
            "flex": null,
            "_model_name": "LayoutModel",
            "justify_items": null,
            "grid_row": null,
            "max_height": null,
            "align_content": null,
            "visibility": null,
            "align_self": null,
            "height": null,
            "min_height": null,
            "padding": null,
            "grid_auto_rows": null,
            "grid_gap": null,
            "max_width": null,
            "order": null,
            "_view_module_version": "1.2.0",
            "grid_template_areas": null,
            "object_position": null,
            "object_fit": null,
            "grid_auto_columns": null,
            "margin": null,
            "display": null,
            "left": null
          }
        },
        "3ce3a8c9de954669bce926d2d41d8472": {
          "model_module": "@jupyter-widgets/controls",
          "model_name": "DescriptionStyleModel",
          "model_module_version": "1.5.0",
          "state": {
            "_view_name": "StyleView",
            "_model_name": "DescriptionStyleModel",
            "description_width": "",
            "_view_module": "@jupyter-widgets/base",
            "_model_module_version": "1.5.0",
            "_view_count": null,
            "_view_module_version": "1.2.0",
            "_model_module": "@jupyter-widgets/controls"
          }
        },
        "c7eb5f1d53324c1094def93f9c8030cb": {
          "model_module": "@jupyter-widgets/base",
          "model_name": "LayoutModel",
          "model_module_version": "1.2.0",
          "state": {
            "_view_name": "LayoutView",
            "grid_template_rows": null,
            "right": null,
            "justify_content": null,
            "_view_module": "@jupyter-widgets/base",
            "overflow": null,
            "_model_module_version": "1.2.0",
            "_view_count": null,
            "flex_flow": null,
            "width": null,
            "min_width": null,
            "border": null,
            "align_items": null,
            "bottom": null,
            "_model_module": "@jupyter-widgets/base",
            "top": null,
            "grid_column": null,
            "overflow_y": null,
            "overflow_x": null,
            "grid_auto_flow": null,
            "grid_area": null,
            "grid_template_columns": null,
            "flex": null,
            "_model_name": "LayoutModel",
            "justify_items": null,
            "grid_row": null,
            "max_height": null,
            "align_content": null,
            "visibility": null,
            "align_self": null,
            "height": null,
            "min_height": null,
            "padding": null,
            "grid_auto_rows": null,
            "grid_gap": null,
            "max_width": null,
            "order": null,
            "_view_module_version": "1.2.0",
            "grid_template_areas": null,
            "object_position": null,
            "object_fit": null,
            "grid_auto_columns": null,
            "margin": null,
            "display": null,
            "left": null
          }
        },
        "7f102ac721354656b512bcd4752a2596": {
          "model_module": "@jupyter-widgets/controls",
          "model_name": "HBoxModel",
          "model_module_version": "1.5.0",
          "state": {
            "_view_name": "HBoxView",
            "_dom_classes": [],
            "_model_name": "HBoxModel",
            "_view_module": "@jupyter-widgets/controls",
            "_model_module_version": "1.5.0",
            "_view_count": null,
            "_view_module_version": "1.5.0",
            "box_style": "",
            "layout": "IPY_MODEL_d0f9498c5ec94f1a803a2911c917690e",
            "_model_module": "@jupyter-widgets/controls",
            "children": [
              "IPY_MODEL_0d108b7e671b4d9c93e96e2ebf636ab4",
              "IPY_MODEL_09e5175dc6474c1d8f4d1df36af6a410"
            ]
          }
        },
        "d0f9498c5ec94f1a803a2911c917690e": {
          "model_module": "@jupyter-widgets/base",
          "model_name": "LayoutModel",
          "model_module_version": "1.2.0",
          "state": {
            "_view_name": "LayoutView",
            "grid_template_rows": null,
            "right": null,
            "justify_content": null,
            "_view_module": "@jupyter-widgets/base",
            "overflow": null,
            "_model_module_version": "1.2.0",
            "_view_count": null,
            "flex_flow": null,
            "width": null,
            "min_width": null,
            "border": null,
            "align_items": null,
            "bottom": null,
            "_model_module": "@jupyter-widgets/base",
            "top": null,
            "grid_column": null,
            "overflow_y": null,
            "overflow_x": null,
            "grid_auto_flow": null,
            "grid_area": null,
            "grid_template_columns": null,
            "flex": null,
            "_model_name": "LayoutModel",
            "justify_items": null,
            "grid_row": null,
            "max_height": null,
            "align_content": null,
            "visibility": null,
            "align_self": null,
            "height": null,
            "min_height": null,
            "padding": null,
            "grid_auto_rows": null,
            "grid_gap": null,
            "max_width": null,
            "order": null,
            "_view_module_version": "1.2.0",
            "grid_template_areas": null,
            "object_position": null,
            "object_fit": null,
            "grid_auto_columns": null,
            "margin": null,
            "display": null,
            "left": null
          }
        },
        "0d108b7e671b4d9c93e96e2ebf636ab4": {
          "model_module": "@jupyter-widgets/controls",
          "model_name": "FloatProgressModel",
          "model_module_version": "1.5.0",
          "state": {
            "_view_name": "ProgressView",
            "style": "IPY_MODEL_f4c3c54787054a85a63092b2f9999ed3",
            "_dom_classes": [],
            "description": "Downloading: 100%",
            "_model_name": "FloatProgressModel",
            "bar_style": "success",
            "max": 536063208,
            "_view_module": "@jupyter-widgets/controls",
            "_model_module_version": "1.5.0",
            "value": 536063208,
            "_view_count": null,
            "_view_module_version": "1.5.0",
            "orientation": "horizontal",
            "min": 0,
            "description_tooltip": null,
            "_model_module": "@jupyter-widgets/controls",
            "layout": "IPY_MODEL_6c994253531b47b8900c6531832af8a8"
          }
        },
        "09e5175dc6474c1d8f4d1df36af6a410": {
          "model_module": "@jupyter-widgets/controls",
          "model_name": "HTMLModel",
          "model_module_version": "1.5.0",
          "state": {
            "_view_name": "HTMLView",
            "style": "IPY_MODEL_3f7095e7fca344079b0b0b5b09c7acf8",
            "_dom_classes": [],
            "description": "",
            "_model_name": "HTMLModel",
            "placeholder": "​",
            "_view_module": "@jupyter-widgets/controls",
            "_model_module_version": "1.5.0",
            "value": " 536M/536M [00:14&lt;00:00, 37.6MB/s]",
            "_view_count": null,
            "_view_module_version": "1.5.0",
            "description_tooltip": null,
            "_model_module": "@jupyter-widgets/controls",
            "layout": "IPY_MODEL_333acb915f4648eea37a732bcdfd18df"
          }
        },
        "f4c3c54787054a85a63092b2f9999ed3": {
          "model_module": "@jupyter-widgets/controls",
          "model_name": "ProgressStyleModel",
          "model_module_version": "1.5.0",
          "state": {
            "_view_name": "StyleView",
            "_model_name": "ProgressStyleModel",
            "description_width": "initial",
            "_view_module": "@jupyter-widgets/base",
            "_model_module_version": "1.5.0",
            "_view_count": null,
            "_view_module_version": "1.2.0",
            "bar_color": null,
            "_model_module": "@jupyter-widgets/controls"
          }
        },
        "6c994253531b47b8900c6531832af8a8": {
          "model_module": "@jupyter-widgets/base",
          "model_name": "LayoutModel",
          "model_module_version": "1.2.0",
          "state": {
            "_view_name": "LayoutView",
            "grid_template_rows": null,
            "right": null,
            "justify_content": null,
            "_view_module": "@jupyter-widgets/base",
            "overflow": null,
            "_model_module_version": "1.2.0",
            "_view_count": null,
            "flex_flow": null,
            "width": null,
            "min_width": null,
            "border": null,
            "align_items": null,
            "bottom": null,
            "_model_module": "@jupyter-widgets/base",
            "top": null,
            "grid_column": null,
            "overflow_y": null,
            "overflow_x": null,
            "grid_auto_flow": null,
            "grid_area": null,
            "grid_template_columns": null,
            "flex": null,
            "_model_name": "LayoutModel",
            "justify_items": null,
            "grid_row": null,
            "max_height": null,
            "align_content": null,
            "visibility": null,
            "align_self": null,
            "height": null,
            "min_height": null,
            "padding": null,
            "grid_auto_rows": null,
            "grid_gap": null,
            "max_width": null,
            "order": null,
            "_view_module_version": "1.2.0",
            "grid_template_areas": null,
            "object_position": null,
            "object_fit": null,
            "grid_auto_columns": null,
            "margin": null,
            "display": null,
            "left": null
          }
        },
        "3f7095e7fca344079b0b0b5b09c7acf8": {
          "model_module": "@jupyter-widgets/controls",
          "model_name": "DescriptionStyleModel",
          "model_module_version": "1.5.0",
          "state": {
            "_view_name": "StyleView",
            "_model_name": "DescriptionStyleModel",
            "description_width": "",
            "_view_module": "@jupyter-widgets/base",
            "_model_module_version": "1.5.0",
            "_view_count": null,
            "_view_module_version": "1.2.0",
            "_model_module": "@jupyter-widgets/controls"
          }
        },
        "333acb915f4648eea37a732bcdfd18df": {
          "model_module": "@jupyter-widgets/base",
          "model_name": "LayoutModel",
          "model_module_version": "1.2.0",
          "state": {
            "_view_name": "LayoutView",
            "grid_template_rows": null,
            "right": null,
            "justify_content": null,
            "_view_module": "@jupyter-widgets/base",
            "overflow": null,
            "_model_module_version": "1.2.0",
            "_view_count": null,
            "flex_flow": null,
            "width": null,
            "min_width": null,
            "border": null,
            "align_items": null,
            "bottom": null,
            "_model_module": "@jupyter-widgets/base",
            "top": null,
            "grid_column": null,
            "overflow_y": null,
            "overflow_x": null,
            "grid_auto_flow": null,
            "grid_area": null,
            "grid_template_columns": null,
            "flex": null,
            "_model_name": "LayoutModel",
            "justify_items": null,
            "grid_row": null,
            "max_height": null,
            "align_content": null,
            "visibility": null,
            "align_self": null,
            "height": null,
            "min_height": null,
            "padding": null,
            "grid_auto_rows": null,
            "grid_gap": null,
            "max_width": null,
            "order": null,
            "_view_module_version": "1.2.0",
            "grid_template_areas": null,
            "object_position": null,
            "object_fit": null,
            "grid_auto_columns": null,
            "margin": null,
            "display": null,
            "left": null
          }
        },
        "3edb46bb65ea4c08b65d18655ea1660b": {
          "model_module": "@jupyter-widgets/controls",
          "model_name": "HBoxModel",
          "model_module_version": "1.5.0",
          "state": {
            "_view_name": "HBoxView",
            "_dom_classes": [],
            "_model_name": "HBoxModel",
            "_view_module": "@jupyter-widgets/controls",
            "_model_module_version": "1.5.0",
            "_view_count": null,
            "_view_module_version": "1.5.0",
            "box_style": "",
            "layout": "IPY_MODEL_358a819c5d364beebec214fb5f38a4dc",
            "_model_module": "@jupyter-widgets/controls",
            "children": [
              "IPY_MODEL_86eb32ac2ed14aefabe844e739fbc255",
              "IPY_MODEL_63cb4a098439432d998f82f546a2629d"
            ]
          }
        },
        "358a819c5d364beebec214fb5f38a4dc": {
          "model_module": "@jupyter-widgets/base",
          "model_name": "LayoutModel",
          "model_module_version": "1.2.0",
          "state": {
            "_view_name": "LayoutView",
            "grid_template_rows": null,
            "right": null,
            "justify_content": null,
            "_view_module": "@jupyter-widgets/base",
            "overflow": null,
            "_model_module_version": "1.2.0",
            "_view_count": null,
            "flex_flow": null,
            "width": null,
            "min_width": null,
            "border": null,
            "align_items": null,
            "bottom": null,
            "_model_module": "@jupyter-widgets/base",
            "top": null,
            "grid_column": null,
            "overflow_y": null,
            "overflow_x": null,
            "grid_auto_flow": null,
            "grid_area": null,
            "grid_template_columns": null,
            "flex": null,
            "_model_name": "LayoutModel",
            "justify_items": null,
            "grid_row": null,
            "max_height": null,
            "align_content": null,
            "visibility": null,
            "align_self": null,
            "height": null,
            "min_height": null,
            "padding": null,
            "grid_auto_rows": null,
            "grid_gap": null,
            "max_width": null,
            "order": null,
            "_view_module_version": "1.2.0",
            "grid_template_areas": null,
            "object_position": null,
            "object_fit": null,
            "grid_auto_columns": null,
            "margin": null,
            "display": null,
            "left": null
          }
        },
        "86eb32ac2ed14aefabe844e739fbc255": {
          "model_module": "@jupyter-widgets/controls",
          "model_name": "FloatProgressModel",
          "model_module_version": "1.5.0",
          "state": {
            "_view_name": "ProgressView",
            "style": "IPY_MODEL_bf97035c2bcb454e800ca60eaafb17db",
            "_dom_classes": [],
            "description": "Downloading: 100%",
            "_model_name": "FloatProgressModel",
            "bar_style": "success",
            "max": 231508,
            "_view_module": "@jupyter-widgets/controls",
            "_model_module_version": "1.5.0",
            "value": 231508,
            "_view_count": null,
            "_view_module_version": "1.5.0",
            "orientation": "horizontal",
            "min": 0,
            "description_tooltip": null,
            "_model_module": "@jupyter-widgets/controls",
            "layout": "IPY_MODEL_9b32a55e58c849b08f571e96a443f5e4"
          }
        },
        "63cb4a098439432d998f82f546a2629d": {
          "model_module": "@jupyter-widgets/controls",
          "model_name": "HTMLModel",
          "model_module_version": "1.5.0",
          "state": {
            "_view_name": "HTMLView",
            "style": "IPY_MODEL_ef71274239e44112ac730f7cfa66ea9a",
            "_dom_classes": [],
            "description": "",
            "_model_name": "HTMLModel",
            "placeholder": "​",
            "_view_module": "@jupyter-widgets/controls",
            "_model_module_version": "1.5.0",
            "value": " 232k/232k [00:00&lt;00:00, 3.22MB/s]",
            "_view_count": null,
            "_view_module_version": "1.5.0",
            "description_tooltip": null,
            "_model_module": "@jupyter-widgets/controls",
            "layout": "IPY_MODEL_f841aff29c4e49a3ad7cdc9cb8de7c42"
          }
        },
        "bf97035c2bcb454e800ca60eaafb17db": {
          "model_module": "@jupyter-widgets/controls",
          "model_name": "ProgressStyleModel",
          "model_module_version": "1.5.0",
          "state": {
            "_view_name": "StyleView",
            "_model_name": "ProgressStyleModel",
            "description_width": "initial",
            "_view_module": "@jupyter-widgets/base",
            "_model_module_version": "1.5.0",
            "_view_count": null,
            "_view_module_version": "1.2.0",
            "bar_color": null,
            "_model_module": "@jupyter-widgets/controls"
          }
        },
        "9b32a55e58c849b08f571e96a443f5e4": {
          "model_module": "@jupyter-widgets/base",
          "model_name": "LayoutModel",
          "model_module_version": "1.2.0",
          "state": {
            "_view_name": "LayoutView",
            "grid_template_rows": null,
            "right": null,
            "justify_content": null,
            "_view_module": "@jupyter-widgets/base",
            "overflow": null,
            "_model_module_version": "1.2.0",
            "_view_count": null,
            "flex_flow": null,
            "width": null,
            "min_width": null,
            "border": null,
            "align_items": null,
            "bottom": null,
            "_model_module": "@jupyter-widgets/base",
            "top": null,
            "grid_column": null,
            "overflow_y": null,
            "overflow_x": null,
            "grid_auto_flow": null,
            "grid_area": null,
            "grid_template_columns": null,
            "flex": null,
            "_model_name": "LayoutModel",
            "justify_items": null,
            "grid_row": null,
            "max_height": null,
            "align_content": null,
            "visibility": null,
            "align_self": null,
            "height": null,
            "min_height": null,
            "padding": null,
            "grid_auto_rows": null,
            "grid_gap": null,
            "max_width": null,
            "order": null,
            "_view_module_version": "1.2.0",
            "grid_template_areas": null,
            "object_position": null,
            "object_fit": null,
            "grid_auto_columns": null,
            "margin": null,
            "display": null,
            "left": null
          }
        },
        "ef71274239e44112ac730f7cfa66ea9a": {
          "model_module": "@jupyter-widgets/controls",
          "model_name": "DescriptionStyleModel",
          "model_module_version": "1.5.0",
          "state": {
            "_view_name": "StyleView",
            "_model_name": "DescriptionStyleModel",
            "description_width": "",
            "_view_module": "@jupyter-widgets/base",
            "_model_module_version": "1.5.0",
            "_view_count": null,
            "_view_module_version": "1.2.0",
            "_model_module": "@jupyter-widgets/controls"
          }
        },
        "f841aff29c4e49a3ad7cdc9cb8de7c42": {
          "model_module": "@jupyter-widgets/base",
          "model_name": "LayoutModel",
          "model_module_version": "1.2.0",
          "state": {
            "_view_name": "LayoutView",
            "grid_template_rows": null,
            "right": null,
            "justify_content": null,
            "_view_module": "@jupyter-widgets/base",
            "overflow": null,
            "_model_module_version": "1.2.0",
            "_view_count": null,
            "flex_flow": null,
            "width": null,
            "min_width": null,
            "border": null,
            "align_items": null,
            "bottom": null,
            "_model_module": "@jupyter-widgets/base",
            "top": null,
            "grid_column": null,
            "overflow_y": null,
            "overflow_x": null,
            "grid_auto_flow": null,
            "grid_area": null,
            "grid_template_columns": null,
            "flex": null,
            "_model_name": "LayoutModel",
            "justify_items": null,
            "grid_row": null,
            "max_height": null,
            "align_content": null,
            "visibility": null,
            "align_self": null,
            "height": null,
            "min_height": null,
            "padding": null,
            "grid_auto_rows": null,
            "grid_gap": null,
            "max_width": null,
            "order": null,
            "_view_module_version": "1.2.0",
            "grid_template_areas": null,
            "object_position": null,
            "object_fit": null,
            "grid_auto_columns": null,
            "margin": null,
            "display": null,
            "left": null
          }
        }
      }
    }
  },
  "cells": [
    {
      "cell_type": "markdown",
      "metadata": {
        "id": "lAvqAZPiF1Ax"
      },
      "source": [
        "![idc.png](data:image/png;base64,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)\n"
      ]
    },
    {
      "cell_type": "markdown",
      "metadata": {
        "id": "1Qa1jPlSFwhZ"
      },
      "source": [
        "<font size=\"7\">ML Methodologies for Business</font> <br>\n",
        "<font size=\"6\">Assignment 3 - Final Project </font> <br>\n",
        "<font size=\"5\">Ehud Sherel and Itay Oren</font>"
      ]
    },
    {
      "cell_type": "code",
      "metadata": {
        "colab": {
          "base_uri": "https://localhost:8080/"
        },
        "id": "kkBDpy1oCqmk",
        "outputId": "4ad8cea0-3833-4591-a36f-4a03bcbaa656"
      },
      "source": [
        "from google.colab import drive\n",
        "drive.mount('/content/drive')"
      ],
      "execution_count": null,
      "outputs": [
        {
          "output_type": "stream",
          "text": [
            "Mounted at /content/drive\n"
          ],
          "name": "stdout"
        }
      ]
    },
    {
      "cell_type": "code",
      "metadata": {
        "colab": {
          "base_uri": "https://localhost:8080/"
        },
        "id": "qTyiPnYCg-Oj",
        "outputId": "0fab9a1d-5fc7-4a79-aec9-129d3b4ca71e"
      },
      "source": [
        "import pandas as pd\n",
        "import numpy as np\n",
        "import matplotlib.pyplot as plt\n",
        "import collections\n",
        "import os\n",
        "import spacy\n",
        "import re,string,unicodedata\n",
        "from wordcloud import WordCloud,STOPWORDS\n",
        "from bs4 import BeautifulSoup\n",
        "import tensorflow as tf\n",
        "\n",
        "from textblob import TextBlob\n",
        "from textblob import Word\n",
        "\n",
        "import nltk\n",
        "from nltk.tokenize.toktok import ToktokTokenizer\n",
        "from nltk.stem import LancasterStemmer,WordNetLemmatizer\n",
        "from nltk.corpus import stopwords\n",
        "from nltk.stem.porter import PorterStemmer\n",
        "from nltk.stem import WordNetLemmatizer\n",
        "from nltk.tokenize import word_tokenize,sent_tokenize\n",
        "from nltk import word_tokenize,sent_tokenize\n",
        "from nltk.sentiment.vader import SentimentIntensityAnalyzer\n",
        "\n",
        "from sklearn.feature_extraction.text import CountVectorizer\n",
        "from sklearn.feature_extraction.text import TfidfVectorizer\n",
        "from sklearn.preprocessing import LabelBinarizer\n",
        "from sklearn.linear_model import LogisticRegression,SGDClassifier\n",
        "from sklearn.naive_bayes import MultinomialNB\n",
        "from sklearn.svm import SVC\n",
        "from sklearn.metrics import classification_report,confusion_matrix,accuracy_score\n",
        "\n",
        "from tensorflow.keras.models import Sequential\n",
        "from tensorflow.keras.layers import Embedding, Flatten, Dense, Dropout, Conv1D, MaxPooling1D\n",
        "from tensorflow.keras.datasets import imdb\n",
        "from tensorflow.keras.preprocessing.sequence import pad_sequences\n",
        "\n",
        "import keras\n",
        "from keras.preprocessing.text import one_hot,Tokenizer\n",
        "from keras.preprocessing.sequence import pad_sequences\n",
        "from keras.models import Sequential\n",
        "from keras.layers import Dense , Flatten ,Embedding,Input\n",
        "from keras.models import Model\n",
        "\n",
        "from scipy.sparse import csr_matrix, lil_matrix "
      ],
      "execution_count": null,
      "outputs": [
        {
          "output_type": "stream",
          "text": [
            "/usr/local/lib/python3.6/dist-packages/nltk/twitter/__init__.py:20: UserWarning: The twython library has not been installed. Some functionality from the twitter package will not be available.\n",
            "  warnings.warn(\"The twython library has not been installed. \"\n"
          ],
          "name": "stderr"
        }
      ]
    },
    {
      "cell_type": "markdown",
      "metadata": {
        "id": "V8FWXS2xFkTJ"
      },
      "source": [
        "# Question 1 – Data retrieval, description, text preprocessing and feature extractions\n"
      ]
    },
    {
      "cell_type": "markdown",
      "metadata": {
        "id": "R4UYE-q-pjhu"
      },
      "source": [
        "## 1) Load the data"
      ]
    },
    {
      "cell_type": "code",
      "metadata": {
        "id": "TUR6_UGRHMhT"
      },
      "source": [
        "file =pd.read_csv('/content/drive/MyDrive/Colab Notebooks/IMDB Dataset/Online Shopping Clothing Reviews.csv',index_col=0)"
      ],
      "execution_count": null,
      "outputs": []
    },
    {
      "cell_type": "code",
      "metadata": {
        "colab": {
          "base_uri": "https://localhost:8080/",
          "height": 323
        },
        "id": "aPe0UX7ghugI",
        "outputId": "9f39a09c-ce80-4418-96ac-53433174b861"
      },
      "source": [
        "file.head()"
      ],
      "execution_count": null,
      "outputs": [
        {
          "output_type": "execute_result",
          "data": {
            "text/html": [
              "<div>\n",
              "<style scoped>\n",
              "    .dataframe tbody tr th:only-of-type {\n",
              "        vertical-align: middle;\n",
              "    }\n",
              "\n",
              "    .dataframe tbody tr th {\n",
              "        vertical-align: top;\n",
              "    }\n",
              "\n",
              "    .dataframe thead th {\n",
              "        text-align: right;\n",
              "    }\n",
              "</style>\n",
              "<table border=\"1\" class=\"dataframe\">\n",
              "  <thead>\n",
              "    <tr style=\"text-align: right;\">\n",
              "      <th></th>\n",
              "      <th>Clothing ID</th>\n",
              "      <th>Age</th>\n",
              "      <th>Title</th>\n",
              "      <th>Review Text</th>\n",
              "      <th>Rating</th>\n",
              "      <th>Recommended IND</th>\n",
              "      <th>Positive Feedback Count</th>\n",
              "      <th>Division Name</th>\n",
              "      <th>Department Name</th>\n",
              "      <th>Class Name</th>\n",
              "    </tr>\n",
              "  </thead>\n",
              "  <tbody>\n",
              "    <tr>\n",
              "      <th>0</th>\n",
              "      <td>767</td>\n",
              "      <td>33</td>\n",
              "      <td>NaN</td>\n",
              "      <td>Absolutely wonderful - silky and sexy and comf...</td>\n",
              "      <td>4</td>\n",
              "      <td>1</td>\n",
              "      <td>0</td>\n",
              "      <td>Initmates</td>\n",
              "      <td>Intimate</td>\n",
              "      <td>Intimates</td>\n",
              "    </tr>\n",
              "    <tr>\n",
              "      <th>1</th>\n",
              "      <td>1080</td>\n",
              "      <td>34</td>\n",
              "      <td>NaN</td>\n",
              "      <td>Love this dress!  it's sooo pretty.  i happene...</td>\n",
              "      <td>5</td>\n",
              "      <td>1</td>\n",
              "      <td>4</td>\n",
              "      <td>General</td>\n",
              "      <td>Dresses</td>\n",
              "      <td>Dresses</td>\n",
              "    </tr>\n",
              "    <tr>\n",
              "      <th>2</th>\n",
              "      <td>1077</td>\n",
              "      <td>60</td>\n",
              "      <td>Some major design flaws</td>\n",
              "      <td>I had such high hopes for this dress and reall...</td>\n",
              "      <td>3</td>\n",
              "      <td>0</td>\n",
              "      <td>0</td>\n",
              "      <td>General</td>\n",
              "      <td>Dresses</td>\n",
              "      <td>Dresses</td>\n",
              "    </tr>\n",
              "    <tr>\n",
              "      <th>3</th>\n",
              "      <td>1049</td>\n",
              "      <td>50</td>\n",
              "      <td>My favorite buy!</td>\n",
              "      <td>I love, love, love this jumpsuit. it's fun, fl...</td>\n",
              "      <td>5</td>\n",
              "      <td>1</td>\n",
              "      <td>0</td>\n",
              "      <td>General Petite</td>\n",
              "      <td>Bottoms</td>\n",
              "      <td>Pants</td>\n",
              "    </tr>\n",
              "    <tr>\n",
              "      <th>4</th>\n",
              "      <td>847</td>\n",
              "      <td>47</td>\n",
              "      <td>Flattering shirt</td>\n",
              "      <td>This shirt is very flattering to all due to th...</td>\n",
              "      <td>5</td>\n",
              "      <td>1</td>\n",
              "      <td>6</td>\n",
              "      <td>General</td>\n",
              "      <td>Tops</td>\n",
              "      <td>Blouses</td>\n",
              "    </tr>\n",
              "  </tbody>\n",
              "</table>\n",
              "</div>"
            ],
            "text/plain": [
              "   Clothing ID  Age  ... Department Name Class Name\n",
              "0          767   33  ...        Intimate  Intimates\n",
              "1         1080   34  ...         Dresses    Dresses\n",
              "2         1077   60  ...         Dresses    Dresses\n",
              "3         1049   50  ...         Bottoms      Pants\n",
              "4          847   47  ...            Tops    Blouses\n",
              "\n",
              "[5 rows x 10 columns]"
            ]
          },
          "metadata": {
            "tags": []
          },
          "execution_count": 4
        }
      ]
    },
    {
      "cell_type": "code",
      "metadata": {
        "colab": {
          "base_uri": "https://localhost:8080/",
          "height": 297
        },
        "id": "x-INj7nKizOq",
        "outputId": "35609e6a-ac30-46fb-880c-4498c403c618"
      },
      "source": [
        "file.columns = ['id', 'reviewer_age', 'title', 'review_text', 'rating', 'recommended_ind', 'positive_feedback_count', 'div_name', 'dept_name', 'class']\n",
        "file.describe()"
      ],
      "execution_count": null,
      "outputs": [
        {
          "output_type": "execute_result",
          "data": {
            "text/html": [
              "<div>\n",
              "<style scoped>\n",
              "    .dataframe tbody tr th:only-of-type {\n",
              "        vertical-align: middle;\n",
              "    }\n",
              "\n",
              "    .dataframe tbody tr th {\n",
              "        vertical-align: top;\n",
              "    }\n",
              "\n",
              "    .dataframe thead th {\n",
              "        text-align: right;\n",
              "    }\n",
              "</style>\n",
              "<table border=\"1\" class=\"dataframe\">\n",
              "  <thead>\n",
              "    <tr style=\"text-align: right;\">\n",
              "      <th></th>\n",
              "      <th>id</th>\n",
              "      <th>reviewer_age</th>\n",
              "      <th>rating</th>\n",
              "      <th>recommended_ind</th>\n",
              "      <th>positive_feedback_count</th>\n",
              "    </tr>\n",
              "  </thead>\n",
              "  <tbody>\n",
              "    <tr>\n",
              "      <th>count</th>\n",
              "      <td>23486.000000</td>\n",
              "      <td>23486.000000</td>\n",
              "      <td>23486.000000</td>\n",
              "      <td>23486.000000</td>\n",
              "      <td>23486.000000</td>\n",
              "    </tr>\n",
              "    <tr>\n",
              "      <th>mean</th>\n",
              "      <td>918.118709</td>\n",
              "      <td>43.198544</td>\n",
              "      <td>4.196032</td>\n",
              "      <td>0.822362</td>\n",
              "      <td>2.535936</td>\n",
              "    </tr>\n",
              "    <tr>\n",
              "      <th>std</th>\n",
              "      <td>203.298980</td>\n",
              "      <td>12.279544</td>\n",
              "      <td>1.110031</td>\n",
              "      <td>0.382216</td>\n",
              "      <td>5.702202</td>\n",
              "    </tr>\n",
              "    <tr>\n",
              "      <th>min</th>\n",
              "      <td>0.000000</td>\n",
              "      <td>18.000000</td>\n",
              "      <td>1.000000</td>\n",
              "      <td>0.000000</td>\n",
              "      <td>0.000000</td>\n",
              "    </tr>\n",
              "    <tr>\n",
              "      <th>25%</th>\n",
              "      <td>861.000000</td>\n",
              "      <td>34.000000</td>\n",
              "      <td>4.000000</td>\n",
              "      <td>1.000000</td>\n",
              "      <td>0.000000</td>\n",
              "    </tr>\n",
              "    <tr>\n",
              "      <th>50%</th>\n",
              "      <td>936.000000</td>\n",
              "      <td>41.000000</td>\n",
              "      <td>5.000000</td>\n",
              "      <td>1.000000</td>\n",
              "      <td>1.000000</td>\n",
              "    </tr>\n",
              "    <tr>\n",
              "      <th>75%</th>\n",
              "      <td>1078.000000</td>\n",
              "      <td>52.000000</td>\n",
              "      <td>5.000000</td>\n",
              "      <td>1.000000</td>\n",
              "      <td>3.000000</td>\n",
              "    </tr>\n",
              "    <tr>\n",
              "      <th>max</th>\n",
              "      <td>1205.000000</td>\n",
              "      <td>99.000000</td>\n",
              "      <td>5.000000</td>\n",
              "      <td>1.000000</td>\n",
              "      <td>122.000000</td>\n",
              "    </tr>\n",
              "  </tbody>\n",
              "</table>\n",
              "</div>"
            ],
            "text/plain": [
              "                 id  reviewer_age  ...  recommended_ind  positive_feedback_count\n",
              "count  23486.000000  23486.000000  ...     23486.000000             23486.000000\n",
              "mean     918.118709     43.198544  ...         0.822362                 2.535936\n",
              "std      203.298980     12.279544  ...         0.382216                 5.702202\n",
              "min        0.000000     18.000000  ...         0.000000                 0.000000\n",
              "25%      861.000000     34.000000  ...         1.000000                 0.000000\n",
              "50%      936.000000     41.000000  ...         1.000000                 1.000000\n",
              "75%     1078.000000     52.000000  ...         1.000000                 3.000000\n",
              "max     1205.000000     99.000000  ...         1.000000               122.000000\n",
              "\n",
              "[8 rows x 5 columns]"
            ]
          },
          "metadata": {
            "tags": []
          },
          "execution_count": 5
        }
      ]
    },
    {
      "cell_type": "code",
      "metadata": {
        "colab": {
          "base_uri": "https://localhost:8080/",
          "height": 366
        },
        "id": "yCEWgV5CPdqO",
        "outputId": "822f3637-95a4-4ca9-d6ce-95d19385427c"
      },
      "source": [
        "file[file.positive_feedback_count>100]"
      ],
      "execution_count": null,
      "outputs": [
        {
          "output_type": "execute_result",
          "data": {
            "text/html": [
              "<div>\n",
              "<style scoped>\n",
              "    .dataframe tbody tr th:only-of-type {\n",
              "        vertical-align: middle;\n",
              "    }\n",
              "\n",
              "    .dataframe tbody tr th {\n",
              "        vertical-align: top;\n",
              "    }\n",
              "\n",
              "    .dataframe thead th {\n",
              "        text-align: right;\n",
              "    }\n",
              "</style>\n",
              "<table border=\"1\" class=\"dataframe\">\n",
              "  <thead>\n",
              "    <tr style=\"text-align: right;\">\n",
              "      <th></th>\n",
              "      <th>id</th>\n",
              "      <th>reviewer_age</th>\n",
              "      <th>title</th>\n",
              "      <th>review_text</th>\n",
              "      <th>rating</th>\n",
              "      <th>recommended_ind</th>\n",
              "      <th>positive_feedback_count</th>\n",
              "      <th>div_name</th>\n",
              "      <th>dept_name</th>\n",
              "      <th>class</th>\n",
              "    </tr>\n",
              "  </thead>\n",
              "  <tbody>\n",
              "    <tr>\n",
              "      <th>1294</th>\n",
              "      <td>1095</td>\n",
              "      <td>29</td>\n",
              "      <td>NaN</td>\n",
              "      <td>I've been on the hunt for the perfect dress to...</td>\n",
              "      <td>5</td>\n",
              "      <td>1</td>\n",
              "      <td>117</td>\n",
              "      <td>General</td>\n",
              "      <td>Dresses</td>\n",
              "      <td>Dresses</td>\n",
              "    </tr>\n",
              "    <tr>\n",
              "      <th>7218</th>\n",
              "      <td>1092</td>\n",
              "      <td>34</td>\n",
              "      <td>Beware if you're fuller in the chest</td>\n",
              "      <td>I loved the lace detailing all over this dress...</td>\n",
              "      <td>3</td>\n",
              "      <td>1</td>\n",
              "      <td>122</td>\n",
              "      <td>General</td>\n",
              "      <td>Dresses</td>\n",
              "      <td>Dresses</td>\n",
              "    </tr>\n",
              "    <tr>\n",
              "      <th>7765</th>\n",
              "      <td>986</td>\n",
              "      <td>43</td>\n",
              "      <td>Quality does not merit cost</td>\n",
              "      <td>I generally don't write bad reviews, but there...</td>\n",
              "      <td>1</td>\n",
              "      <td>0</td>\n",
              "      <td>108</td>\n",
              "      <td>General</td>\n",
              "      <td>Jackets</td>\n",
              "      <td>Jackets</td>\n",
              "    </tr>\n",
              "  </tbody>\n",
              "</table>\n",
              "</div>"
            ],
            "text/plain": [
              "        id  reviewer_age  ... dept_name    class\n",
              "1294  1095            29  ...   Dresses  Dresses\n",
              "7218  1092            34  ...   Dresses  Dresses\n",
              "7765   986            43  ...   Jackets  Jackets\n",
              "\n",
              "[3 rows x 10 columns]"
            ]
          },
          "metadata": {
            "tags": []
          },
          "execution_count": 6
        }
      ]
    },
    {
      "cell_type": "markdown",
      "metadata": {
        "id": "yfHrMar8prfI"
      },
      "source": [
        "\n",
        "\n",
        "\n",
        "## 2) Finding interesting facts about the data"
      ]
    },
    {
      "cell_type": "markdown",
      "metadata": {
        "id": "SR1uQYZkG66Y"
      },
      "source": [
        "**Observatoin #1** - We can see that the mean of recommended_ind is 0.82. Thus, it means that this is our base for any ML model. If a model will always predict \"1\" -- positive recomendation - it will be accurate at 82%. \n",
        "This is a key observation for later on."
      ]
    },
    {
      "cell_type": "markdown",
      "metadata": {
        "id": "SsNbfamTOkG4"
      },
      "source": [
        "**Obesrvation #2**\n",
        "We can see that the average rating age is 43 years old , and overall the average rating it ~4.2 (in the scale between 1-5 it means that overall most of the ratings are very possitve - 50% of the ratings are 5)\n",
        "\n",
        "We can see that there were three items which recieved more than 100 positive feedback - from this we can conlude\n",
        "1. item id 1095 which got rating =5 is loved by our customers and we should try and market it to similar customers progile.\n",
        "2. item id 986 is not loved by our customers and we should consider remove from the our store. "
      ]
    },
    {
      "cell_type": "markdown",
      "metadata": {
        "id": "LGeBE6SuSM1c"
      },
      "source": [
        "### Which class has the more ratings:"
      ]
    },
    {
      "cell_type": "code",
      "metadata": {
        "colab": {
          "base_uri": "https://localhost:8080/",
          "height": 235
        },
        "id": "VhwLJTILi1BH",
        "outputId": "f1c2e026-ea92-4918-9637-55abfce2068a"
      },
      "source": [
        "classes_df = file.groupby(['class']).agg({'reviewer_age': np.mean, 'rating': np.mean, 'positive_feedback_count': np.sum, 'div_name': np.size})\n",
        "classes_df.head().sort_values('rating', ascending=False)"
      ],
      "execution_count": null,
      "outputs": [
        {
          "output_type": "execute_result",
          "data": {
            "text/html": [
              "<div>\n",
              "<style scoped>\n",
              "    .dataframe tbody tr th:only-of-type {\n",
              "        vertical-align: middle;\n",
              "    }\n",
              "\n",
              "    .dataframe tbody tr th {\n",
              "        vertical-align: top;\n",
              "    }\n",
              "\n",
              "    .dataframe thead th {\n",
              "        text-align: right;\n",
              "    }\n",
              "</style>\n",
              "<table border=\"1\" class=\"dataframe\">\n",
              "  <thead>\n",
              "    <tr style=\"text-align: right;\">\n",
              "      <th></th>\n",
              "      <th>reviewer_age</th>\n",
              "      <th>rating</th>\n",
              "      <th>positive_feedback_count</th>\n",
              "      <th>div_name</th>\n",
              "    </tr>\n",
              "    <tr>\n",
              "      <th>class</th>\n",
              "      <th></th>\n",
              "      <th></th>\n",
              "      <th></th>\n",
              "      <th></th>\n",
              "    </tr>\n",
              "  </thead>\n",
              "  <tbody>\n",
              "    <tr>\n",
              "      <th>Casual bottoms</th>\n",
              "      <td>26.500000</td>\n",
              "      <td>4.500000</td>\n",
              "      <td>0</td>\n",
              "      <td>2</td>\n",
              "    </tr>\n",
              "    <tr>\n",
              "      <th>Fine gauge</th>\n",
              "      <td>44.730909</td>\n",
              "      <td>4.260909</td>\n",
              "      <td>2215</td>\n",
              "      <td>1100</td>\n",
              "    </tr>\n",
              "    <tr>\n",
              "      <th>Blouses</th>\n",
              "      <td>44.252502</td>\n",
              "      <td>4.154020</td>\n",
              "      <td>8440</td>\n",
              "      <td>3097</td>\n",
              "    </tr>\n",
              "    <tr>\n",
              "      <th>Dresses</th>\n",
              "      <td>42.114892</td>\n",
              "      <td>4.150815</td>\n",
              "      <td>19510</td>\n",
              "      <td>6319</td>\n",
              "    </tr>\n",
              "    <tr>\n",
              "      <th>Chemises</th>\n",
              "      <td>38.000000</td>\n",
              "      <td>4.000000</td>\n",
              "      <td>0</td>\n",
              "      <td>1</td>\n",
              "    </tr>\n",
              "  </tbody>\n",
              "</table>\n",
              "</div>"
            ],
            "text/plain": [
              "                reviewer_age    rating  positive_feedback_count  div_name\n",
              "class                                                                    \n",
              "Casual bottoms     26.500000  4.500000                        0         2\n",
              "Fine gauge         44.730909  4.260909                     2215      1100\n",
              "Blouses            44.252502  4.154020                     8440      3097\n",
              "Dresses            42.114892  4.150815                    19510      6319\n",
              "Chemises           38.000000  4.000000                        0         1"
            ]
          },
          "metadata": {
            "tags": []
          },
          "execution_count": 7
        }
      ]
    },
    {
      "cell_type": "code",
      "metadata": {
        "colab": {
          "base_uri": "https://localhost:8080/",
          "height": 204
        },
        "id": "FOFbb2g5jY3b",
        "outputId": "24995247-1505-43c2-8ef4-03ca3dac73d1"
      },
      "source": [
        "classes_df = classes_df.reset_index()\n",
        "classes_df.columns = ['class', 'reviewer_age', 'rating', 'positive_feedback_count', 'counter']\n",
        "classes_df.head()"
      ],
      "execution_count": null,
      "outputs": [
        {
          "output_type": "execute_result",
          "data": {
            "text/html": [
              "<div>\n",
              "<style scoped>\n",
              "    .dataframe tbody tr th:only-of-type {\n",
              "        vertical-align: middle;\n",
              "    }\n",
              "\n",
              "    .dataframe tbody tr th {\n",
              "        vertical-align: top;\n",
              "    }\n",
              "\n",
              "    .dataframe thead th {\n",
              "        text-align: right;\n",
              "    }\n",
              "</style>\n",
              "<table border=\"1\" class=\"dataframe\">\n",
              "  <thead>\n",
              "    <tr style=\"text-align: right;\">\n",
              "      <th></th>\n",
              "      <th>class</th>\n",
              "      <th>reviewer_age</th>\n",
              "      <th>rating</th>\n",
              "      <th>positive_feedback_count</th>\n",
              "      <th>counter</th>\n",
              "    </tr>\n",
              "  </thead>\n",
              "  <tbody>\n",
              "    <tr>\n",
              "      <th>0</th>\n",
              "      <td>Blouses</td>\n",
              "      <td>44.252502</td>\n",
              "      <td>4.154020</td>\n",
              "      <td>8440</td>\n",
              "      <td>3097</td>\n",
              "    </tr>\n",
              "    <tr>\n",
              "      <th>1</th>\n",
              "      <td>Casual bottoms</td>\n",
              "      <td>26.500000</td>\n",
              "      <td>4.500000</td>\n",
              "      <td>0</td>\n",
              "      <td>2</td>\n",
              "    </tr>\n",
              "    <tr>\n",
              "      <th>2</th>\n",
              "      <td>Chemises</td>\n",
              "      <td>38.000000</td>\n",
              "      <td>4.000000</td>\n",
              "      <td>0</td>\n",
              "      <td>1</td>\n",
              "    </tr>\n",
              "    <tr>\n",
              "      <th>3</th>\n",
              "      <td>Dresses</td>\n",
              "      <td>42.114892</td>\n",
              "      <td>4.150815</td>\n",
              "      <td>19510</td>\n",
              "      <td>6319</td>\n",
              "    </tr>\n",
              "    <tr>\n",
              "      <th>4</th>\n",
              "      <td>Fine gauge</td>\n",
              "      <td>44.730909</td>\n",
              "      <td>4.260909</td>\n",
              "      <td>2215</td>\n",
              "      <td>1100</td>\n",
              "    </tr>\n",
              "  </tbody>\n",
              "</table>\n",
              "</div>"
            ],
            "text/plain": [
              "            class  reviewer_age    rating  positive_feedback_count  counter\n",
              "0         Blouses     44.252502  4.154020                     8440     3097\n",
              "1  Casual bottoms     26.500000  4.500000                        0        2\n",
              "2        Chemises     38.000000  4.000000                        0        1\n",
              "3         Dresses     42.114892  4.150815                    19510     6319\n",
              "4      Fine gauge     44.730909  4.260909                     2215     1100"
            ]
          },
          "metadata": {
            "tags": []
          },
          "execution_count": 8
        }
      ]
    },
    {
      "cell_type": "code",
      "metadata": {
        "colab": {
          "base_uri": "https://localhost:8080/",
          "height": 204
        },
        "id": "766ikO3JmnPm",
        "outputId": "58a8e8b8-2651-4068-c893-393ed6833abd"
      },
      "source": [
        "bottom_limit = int(round(len(file) *0.01))\n",
        "percent_limit_products_df = classes_df.loc[classes_df.counter > bottom_limit]\n",
        "percent_limit_products_df.head()"
      ],
      "execution_count": null,
      "outputs": [
        {
          "output_type": "execute_result",
          "data": {
            "text/html": [
              "<div>\n",
              "<style scoped>\n",
              "    .dataframe tbody tr th:only-of-type {\n",
              "        vertical-align: middle;\n",
              "    }\n",
              "\n",
              "    .dataframe tbody tr th {\n",
              "        vertical-align: top;\n",
              "    }\n",
              "\n",
              "    .dataframe thead th {\n",
              "        text-align: right;\n",
              "    }\n",
              "</style>\n",
              "<table border=\"1\" class=\"dataframe\">\n",
              "  <thead>\n",
              "    <tr style=\"text-align: right;\">\n",
              "      <th></th>\n",
              "      <th>class</th>\n",
              "      <th>reviewer_age</th>\n",
              "      <th>rating</th>\n",
              "      <th>positive_feedback_count</th>\n",
              "      <th>counter</th>\n",
              "    </tr>\n",
              "  </thead>\n",
              "  <tbody>\n",
              "    <tr>\n",
              "      <th>0</th>\n",
              "      <td>Blouses</td>\n",
              "      <td>44.252502</td>\n",
              "      <td>4.154020</td>\n",
              "      <td>8440</td>\n",
              "      <td>3097</td>\n",
              "    </tr>\n",
              "    <tr>\n",
              "      <th>3</th>\n",
              "      <td>Dresses</td>\n",
              "      <td>42.114892</td>\n",
              "      <td>4.150815</td>\n",
              "      <td>19510</td>\n",
              "      <td>6319</td>\n",
              "    </tr>\n",
              "    <tr>\n",
              "      <th>4</th>\n",
              "      <td>Fine gauge</td>\n",
              "      <td>44.730909</td>\n",
              "      <td>4.260909</td>\n",
              "      <td>2215</td>\n",
              "      <td>1100</td>\n",
              "    </tr>\n",
              "    <tr>\n",
              "      <th>6</th>\n",
              "      <td>Jackets</td>\n",
              "      <td>43.813920</td>\n",
              "      <td>4.295455</td>\n",
              "      <td>1990</td>\n",
              "      <td>704</td>\n",
              "    </tr>\n",
              "    <tr>\n",
              "      <th>7</th>\n",
              "      <td>Jeans</td>\n",
              "      <td>43.115955</td>\n",
              "      <td>4.360942</td>\n",
              "      <td>2018</td>\n",
              "      <td>1147</td>\n",
              "    </tr>\n",
              "  </tbody>\n",
              "</table>\n",
              "</div>"
            ],
            "text/plain": [
              "        class  reviewer_age    rating  positive_feedback_count  counter\n",
              "0     Blouses     44.252502  4.154020                     8440     3097\n",
              "3     Dresses     42.114892  4.150815                    19510     6319\n",
              "4  Fine gauge     44.730909  4.260909                     2215     1100\n",
              "6     Jackets     43.813920  4.295455                     1990      704\n",
              "7       Jeans     43.115955  4.360942                     2018     1147"
            ]
          },
          "metadata": {
            "tags": []
          },
          "execution_count": 9
        }
      ]
    },
    {
      "cell_type": "code",
      "metadata": {
        "colab": {
          "base_uri": "https://localhost:8080/",
          "height": 466
        },
        "id": "aKSqjQtGP7zT",
        "outputId": "c175dbdd-3804-4186-c7af-043df14e6088"
      },
      "source": [
        "percent_limit_products_df = percent_limit_products_df.sort_values(by='counter', ascending=False)\n",
        "percent_limit_products_df[['class', 'counter']].set_index('class').plot.pie(y='counter', figsize=(8,8), legend=False)\n",
        "plt.show()"
      ],
      "execution_count": null,
      "outputs": [
        {
          "output_type": "display_data",
          "data": {
            "image/png": "[encoded data removed]",
            "text/plain": [
              "<Figure size 576x576 with 1 Axes>"
            ]
          },
          "metadata": {
            "tags": []
          }
        }
      ]
    },
    {
      "cell_type": "markdown",
      "metadata": {
        "id": "c9oqyalzEJRX"
      },
      "source": [
        "**Obesrvation #3** We can see that dresses has the most number of ratings left. \n",
        "This is important since it might mean that women tend to leave more ratings and although we need further customer information to better understand this, it might affect future desicions of the company"
      ]
    },
    {
      "cell_type": "markdown",
      "metadata": {
        "id": "w8iFffDXS2bA"
      },
      "source": [
        "### Does age correlates rating:"
      ]
    },
    {
      "cell_type": "code",
      "metadata": {
        "colab": {
          "base_uri": "https://localhost:8080/",
          "height": 265
        },
        "id": "QDhBVm--_-RL",
        "outputId": "60b0fafd-e7ed-4482-8683-d6f911a427e0"
      },
      "source": [
        "file.reviewer_age.plot.hist()\n",
        "plt.show()"
      ],
      "execution_count": null,
      "outputs": [
        {
          "output_type": "display_data",
          "data": {
            "image/png": "[encoded data removed]",
            "text/plain": [
              "<Figure size 432x288 with 1 Axes>"
            ]
          },
          "metadata": {
            "tags": [],
            "needs_background": "light"
          }
        }
      ]
    },
    {
      "cell_type": "markdown",
      "metadata": {
        "id": "fPRx3LecDZXa"
      },
      "source": [
        "First, we see that there's a nice normal distibution around the age of 40 when it comes to number of ratings. Now let's see what about the rating numbers themselves"
      ]
    },
    {
      "cell_type": "code",
      "metadata": {
        "colab": {
          "base_uri": "https://localhost:8080/"
        },
        "id": "JGCTuk43TChi",
        "outputId": "ab15fe9f-66c7-4998-999b-60be9dee68d8"
      },
      "source": [
        "ages_df = file[['reviewer_age', 'rating']]\n",
        "ages_df.reviewer_age = ages_df.reviewer_age.astype(int)"
      ],
      "execution_count": null,
      "outputs": [
        {
          "output_type": "stream",
          "text": [
            "/usr/local/lib/python3.6/dist-packages/pandas/core/generic.py:5170: SettingWithCopyWarning: \n",
            "A value is trying to be set on a copy of a slice from a DataFrame.\n",
            "Try using .loc[row_indexer,col_indexer] = value instead\n",
            "\n",
            "See the caveats in the documentation: https://pandas.pydata.org/pandas-docs/stable/user_guide/indexing.html#returning-a-view-versus-a-copy\n",
            "  self[name] = value\n"
          ],
          "name": "stderr"
        }
      ]
    },
    {
      "cell_type": "code",
      "metadata": {
        "colab": {
          "base_uri": "https://localhost:8080/",
          "height": 326
        },
        "id": "siJko2-frJaH",
        "outputId": "6a792d1d-310c-439d-dda7-5ca5742f7d8a"
      },
      "source": [
        "for idx, row in ages_df.iterrows():\n",
        "  if ages_df.loc[idx, 'reviewer_age'] <= 20:\n",
        "    ages_df.loc[idx, 'reviewer_age'] = '0 to 20'\n",
        "  elif ages_df.loc[idx, 'reviewer_age'] <= 40: \n",
        "    ages_df.loc[idx, 'reviewer_age'] = '21 to 40'\n",
        "  elif ages_df.loc[idx, 'reviewer_age'] <= 60: \n",
        "    ages_df.loc[idx, 'reviewer_age'] = '41 to 60'\n",
        "  elif ages_df.loc[idx, 'reviewer_age'] <= 80: \n",
        "    ages_df.loc[idx, 'reviewer_age'] = '61 to 80'\n",
        "  else:\n",
        "    ages_df.loc[idx, 'reviewer_age'] = '81 to 100'\n",
        "ages_df.head()"
      ],
      "execution_count": null,
      "outputs": [
        {
          "output_type": "stream",
          "text": [
            "/usr/local/lib/python3.6/dist-packages/pandas/core/indexing.py:1763: SettingWithCopyWarning: \n",
            "A value is trying to be set on a copy of a slice from a DataFrame.\n",
            "Try using .loc[row_indexer,col_indexer] = value instead\n",
            "\n",
            "See the caveats in the documentation: https://pandas.pydata.org/pandas-docs/stable/user_guide/indexing.html#returning-a-view-versus-a-copy\n",
            "  isetter(loc, value)\n"
          ],
          "name": "stderr"
        },
        {
          "output_type": "execute_result",
          "data": {
            "text/html": [
              "<div>\n",
              "<style scoped>\n",
              "    .dataframe tbody tr th:only-of-type {\n",
              "        vertical-align: middle;\n",
              "    }\n",
              "\n",
              "    .dataframe tbody tr th {\n",
              "        vertical-align: top;\n",
              "    }\n",
              "\n",
              "    .dataframe thead th {\n",
              "        text-align: right;\n",
              "    }\n",
              "</style>\n",
              "<table border=\"1\" class=\"dataframe\">\n",
              "  <thead>\n",
              "    <tr style=\"text-align: right;\">\n",
              "      <th></th>\n",
              "      <th>reviewer_age</th>\n",
              "      <th>rating</th>\n",
              "    </tr>\n",
              "  </thead>\n",
              "  <tbody>\n",
              "    <tr>\n",
              "      <th>0</th>\n",
              "      <td>21 to 40</td>\n",
              "      <td>4</td>\n",
              "    </tr>\n",
              "    <tr>\n",
              "      <th>1</th>\n",
              "      <td>21 to 40</td>\n",
              "      <td>5</td>\n",
              "    </tr>\n",
              "    <tr>\n",
              "      <th>2</th>\n",
              "      <td>41 to 60</td>\n",
              "      <td>3</td>\n",
              "    </tr>\n",
              "    <tr>\n",
              "      <th>3</th>\n",
              "      <td>41 to 60</td>\n",
              "      <td>5</td>\n",
              "    </tr>\n",
              "    <tr>\n",
              "      <th>4</th>\n",
              "      <td>41 to 60</td>\n",
              "      <td>5</td>\n",
              "    </tr>\n",
              "  </tbody>\n",
              "</table>\n",
              "</div>"
            ],
            "text/plain": [
              "  reviewer_age  rating\n",
              "0     21 to 40       4\n",
              "1     21 to 40       5\n",
              "2     41 to 60       3\n",
              "3     41 to 60       5\n",
              "4     41 to 60       5"
            ]
          },
          "metadata": {
            "tags": []
          },
          "execution_count": 13
        }
      ]
    },
    {
      "cell_type": "code",
      "metadata": {
        "colab": {
          "base_uri": "https://localhost:8080/",
          "height": 235
        },
        "id": "k5haMV3FbGrA",
        "outputId": "66097bd6-1c6c-45eb-985d-0e9419184883"
      },
      "source": [
        "bins_df = ages_df.groupby('reviewer_age').mean()\n",
        "bins_df.head()"
      ],
      "execution_count": null,
      "outputs": [
        {
          "output_type": "execute_result",
          "data": {
            "text/html": [
              "<div>\n",
              "<style scoped>\n",
              "    .dataframe tbody tr th:only-of-type {\n",
              "        vertical-align: middle;\n",
              "    }\n",
              "\n",
              "    .dataframe tbody tr th {\n",
              "        vertical-align: top;\n",
              "    }\n",
              "\n",
              "    .dataframe thead th {\n",
              "        text-align: right;\n",
              "    }\n",
              "</style>\n",
              "<table border=\"1\" class=\"dataframe\">\n",
              "  <thead>\n",
              "    <tr style=\"text-align: right;\">\n",
              "      <th></th>\n",
              "      <th>rating</th>\n",
              "    </tr>\n",
              "    <tr>\n",
              "      <th>reviewer_age</th>\n",
              "      <th></th>\n",
              "    </tr>\n",
              "  </thead>\n",
              "  <tbody>\n",
              "    <tr>\n",
              "      <th>0 to 20</th>\n",
              "      <td>4.322368</td>\n",
              "    </tr>\n",
              "    <tr>\n",
              "      <th>21 to 40</th>\n",
              "      <td>4.172373</td>\n",
              "    </tr>\n",
              "    <tr>\n",
              "      <th>41 to 60</th>\n",
              "      <td>4.198183</td>\n",
              "    </tr>\n",
              "    <tr>\n",
              "      <th>61 to 80</th>\n",
              "      <td>4.280154</td>\n",
              "    </tr>\n",
              "    <tr>\n",
              "      <th>81 to 100</th>\n",
              "      <td>4.454545</td>\n",
              "    </tr>\n",
              "  </tbody>\n",
              "</table>\n",
              "</div>"
            ],
            "text/plain": [
              "                rating\n",
              "reviewer_age          \n",
              "0 to 20       4.322368\n",
              "21 to 40      4.172373\n",
              "41 to 60      4.198183\n",
              "61 to 80      4.280154\n",
              "81 to 100     4.454545"
            ]
          },
          "metadata": {
            "tags": []
          },
          "execution_count": 14
        }
      ]
    },
    {
      "cell_type": "code",
      "metadata": {
        "colab": {
          "base_uri": "https://localhost:8080/",
          "height": 311
        },
        "id": "6IRQn7oeegXp",
        "outputId": "92306ea2-d379-440d-e15f-55ff9711bc28"
      },
      "source": [
        "bins_df.plot.bar(logy= True, rot=45)\n",
        "plt.show()"
      ],
      "execution_count": null,
      "outputs": [
        {
          "output_type": "display_data",
          "data": {
            "image/png": "[encoded data removed]",
            "text/plain": [
              "<Figure size 432x288 with 1 Axes>"
            ]
          },
          "metadata": {
            "tags": [],
            "needs_background": "light"
          }
        }
      ]
    },
    {
      "cell_type": "markdown",
      "metadata": {
        "id": "14d9D74kDur3"
      },
      "source": [
        "**Obesrvation #4** It's interesting to see that although people around their 40's leave more ratings than others, they usually rate lower than others.\n",
        "This might have an impact on future decisions when thinking about how to get those rating numbers higher"
      ]
    },
    {
      "cell_type": "markdown",
      "metadata": {
        "id": "wt_LOF75Glz7"
      },
      "source": [
        "## 3) Text PreProcessing Steps\n",
        "\n",
        "\n"
      ]
    },
    {
      "cell_type": "code",
      "metadata": {
        "colab": {
          "base_uri": "https://localhost:8080/",
          "height": 479
        },
        "id": "aq8ZWnLhGzaz",
        "outputId": "abde3631-e3cd-4c6a-f158-97f658a98551"
      },
      "source": [
        "file.head()"
      ],
      "execution_count": null,
      "outputs": [
        {
          "output_type": "execute_result",
          "data": {
            "text/html": [
              "<div>\n",
              "<style scoped>\n",
              "    .dataframe tbody tr th:only-of-type {\n",
              "        vertical-align: middle;\n",
              "    }\n",
              "\n",
              "    .dataframe tbody tr th {\n",
              "        vertical-align: top;\n",
              "    }\n",
              "\n",
              "    .dataframe thead th {\n",
              "        text-align: right;\n",
              "    }\n",
              "</style>\n",
              "<table border=\"1\" class=\"dataframe\">\n",
              "  <thead>\n",
              "    <tr style=\"text-align: right;\">\n",
              "      <th></th>\n",
              "      <th>id</th>\n",
              "      <th>reviewer_age</th>\n",
              "      <th>title</th>\n",
              "      <th>review_text</th>\n",
              "      <th>rating</th>\n",
              "      <th>recommended_ind</th>\n",
              "      <th>positive_feedback_count</th>\n",
              "      <th>div_name</th>\n",
              "      <th>dept_name</th>\n",
              "      <th>class</th>\n",
              "    </tr>\n",
              "  </thead>\n",
              "  <tbody>\n",
              "    <tr>\n",
              "      <th>0</th>\n",
              "      <td>767</td>\n",
              "      <td>33</td>\n",
              "      <td>NaN</td>\n",
              "      <td>Absolutely wonderful - silky and sexy and comf...</td>\n",
              "      <td>4</td>\n",
              "      <td>1</td>\n",
              "      <td>0</td>\n",
              "      <td>Initmates</td>\n",
              "      <td>Intimate</td>\n",
              "      <td>Intimates</td>\n",
              "    </tr>\n",
              "    <tr>\n",
              "      <th>1</th>\n",
              "      <td>1080</td>\n",
              "      <td>34</td>\n",
              "      <td>NaN</td>\n",
              "      <td>Love this dress!  it's sooo pretty.  i happene...</td>\n",
              "      <td>5</td>\n",
              "      <td>1</td>\n",
              "      <td>4</td>\n",
              "      <td>General</td>\n",
              "      <td>Dresses</td>\n",
              "      <td>Dresses</td>\n",
              "    </tr>\n",
              "    <tr>\n",
              "      <th>2</th>\n",
              "      <td>1077</td>\n",
              "      <td>60</td>\n",
              "      <td>Some major design flaws</td>\n",
              "      <td>I had such high hopes for this dress and reall...</td>\n",
              "      <td>3</td>\n",
              "      <td>0</td>\n",
              "      <td>0</td>\n",
              "      <td>General</td>\n",
              "      <td>Dresses</td>\n",
              "      <td>Dresses</td>\n",
              "    </tr>\n",
              "    <tr>\n",
              "      <th>3</th>\n",
              "      <td>1049</td>\n",
              "      <td>50</td>\n",
              "      <td>My favorite buy!</td>\n",
              "      <td>I love, love, love this jumpsuit. it's fun, fl...</td>\n",
              "      <td>5</td>\n",
              "      <td>1</td>\n",
              "      <td>0</td>\n",
              "      <td>General Petite</td>\n",
              "      <td>Bottoms</td>\n",
              "      <td>Pants</td>\n",
              "    </tr>\n",
              "    <tr>\n",
              "      <th>4</th>\n",
              "      <td>847</td>\n",
              "      <td>47</td>\n",
              "      <td>Flattering shirt</td>\n",
              "      <td>This shirt is very flattering to all due to th...</td>\n",
              "      <td>5</td>\n",
              "      <td>1</td>\n",
              "      <td>6</td>\n",
              "      <td>General</td>\n",
              "      <td>Tops</td>\n",
              "      <td>Blouses</td>\n",
              "    </tr>\n",
              "  </tbody>\n",
              "</table>\n",
              "</div>"
            ],
            "text/plain": [
              "     id  reviewer_age  ... dept_name      class\n",
              "0   767            33  ...  Intimate  Intimates\n",
              "1  1080            34  ...   Dresses    Dresses\n",
              "2  1077            60  ...   Dresses    Dresses\n",
              "3  1049            50  ...   Bottoms      Pants\n",
              "4   847            47  ...      Tops    Blouses\n",
              "\n",
              "[5 rows x 10 columns]"
            ]
          },
          "metadata": {
            "tags": []
          },
          "execution_count": 16
        }
      ]
    },
    {
      "cell_type": "markdown",
      "metadata": {
        "id": "QUMAi-d7U0U7"
      },
      "source": [
        "**We see no point on keeping both title and review_text columns - we will merge them to one review column**"
      ]
    },
    {
      "cell_type": "code",
      "metadata": {
        "colab": {
          "base_uri": "https://localhost:8080/"
        },
        "id": "F-KZEX8wWaRx",
        "outputId": "59a53297-8b86-4292-d215-0f4a45bb1cb0"
      },
      "source": [
        "#cleaning NA data\n",
        "file.isna().sum()\n"
      ],
      "execution_count": null,
      "outputs": [
        {
          "output_type": "execute_result",
          "data": {
            "text/plain": [
              "id                            0\n",
              "reviewer_age                  0\n",
              "title                      3810\n",
              "review_text                 845\n",
              "rating                        0\n",
              "recommended_ind               0\n",
              "positive_feedback_count       0\n",
              "div_name                     14\n",
              "dept_name                    14\n",
              "class                        14\n",
              "dtype: int64"
            ]
          },
          "metadata": {
            "tags": []
          },
          "execution_count": 17
        }
      ]
    },
    {
      "cell_type": "code",
      "metadata": {
        "colab": {
          "base_uri": "https://localhost:8080/"
        },
        "id": "L5SWkvcvX-Lz",
        "outputId": "7a7ff07d-3c0d-4eb6-885a-8902ed3c2fea"
      },
      "source": [
        "file= file.fillna(' ')\n",
        "file.isna().sum()\n"
      ],
      "execution_count": null,
      "outputs": [
        {
          "output_type": "execute_result",
          "data": {
            "text/plain": [
              "id                         0\n",
              "reviewer_age               0\n",
              "title                      0\n",
              "review_text                0\n",
              "rating                     0\n",
              "recommended_ind            0\n",
              "positive_feedback_count    0\n",
              "div_name                   0\n",
              "dept_name                  0\n",
              "class                      0\n",
              "dtype: int64"
            ]
          },
          "metadata": {
            "tags": []
          },
          "execution_count": 18
        }
      ]
    },
    {
      "cell_type": "code",
      "metadata": {
        "id": "slXSrcbPdNnG"
      },
      "source": [
        "file.review_text = file.review_text.apply(str)\n",
        "file.title = file.title.apply(str)"
      ],
      "execution_count": null,
      "outputs": []
    },
    {
      "cell_type": "code",
      "metadata": {
        "colab": {
          "base_uri": "https://localhost:8080/",
          "height": 615
        },
        "id": "XF6DEmvRU-Ae",
        "outputId": "a9d692a6-76cf-47b7-c6e9-a7708e806967"
      },
      "source": [
        "file['review'] = file.title.str.cat(file.review_text)\n",
        "file.head()\n",
        "#del file['title']\n",
        "#del file['review_text']\n",
        "file.head()\n"
      ],
      "execution_count": null,
      "outputs": [
        {
          "output_type": "execute_result",
          "data": {
            "text/html": [
              "<div>\n",
              "<style scoped>\n",
              "    .dataframe tbody tr th:only-of-type {\n",
              "        vertical-align: middle;\n",
              "    }\n",
              "\n",
              "    .dataframe tbody tr th {\n",
              "        vertical-align: top;\n",
              "    }\n",
              "\n",
              "    .dataframe thead th {\n",
              "        text-align: right;\n",
              "    }\n",
              "</style>\n",
              "<table border=\"1\" class=\"dataframe\">\n",
              "  <thead>\n",
              "    <tr style=\"text-align: right;\">\n",
              "      <th></th>\n",
              "      <th>id</th>\n",
              "      <th>reviewer_age</th>\n",
              "      <th>title</th>\n",
              "      <th>review_text</th>\n",
              "      <th>rating</th>\n",
              "      <th>recommended_ind</th>\n",
              "      <th>positive_feedback_count</th>\n",
              "      <th>div_name</th>\n",
              "      <th>dept_name</th>\n",
              "      <th>class</th>\n",
              "      <th>review</th>\n",
              "    </tr>\n",
              "  </thead>\n",
              "  <tbody>\n",
              "    <tr>\n",
              "      <th>0</th>\n",
              "      <td>767</td>\n",
              "      <td>33</td>\n",
              "      <td></td>\n",
              "      <td>Absolutely wonderful - silky and sexy and comf...</td>\n",
              "      <td>4</td>\n",
              "      <td>1</td>\n",
              "      <td>0</td>\n",
              "      <td>Initmates</td>\n",
              "      <td>Intimate</td>\n",
              "      <td>Intimates</td>\n",
              "      <td>Absolutely wonderful - silky and sexy and com...</td>\n",
              "    </tr>\n",
              "    <tr>\n",
              "      <th>1</th>\n",
              "      <td>1080</td>\n",
              "      <td>34</td>\n",
              "      <td></td>\n",
              "      <td>Love this dress!  it's sooo pretty.  i happene...</td>\n",
              "      <td>5</td>\n",
              "      <td>1</td>\n",
              "      <td>4</td>\n",
              "      <td>General</td>\n",
              "      <td>Dresses</td>\n",
              "      <td>Dresses</td>\n",
              "      <td>Love this dress!  it's sooo pretty.  i happen...</td>\n",
              "    </tr>\n",
              "    <tr>\n",
              "      <th>2</th>\n",
              "      <td>1077</td>\n",
              "      <td>60</td>\n",
              "      <td>Some major design flaws</td>\n",
              "      <td>I had such high hopes for this dress and reall...</td>\n",
              "      <td>3</td>\n",
              "      <td>0</td>\n",
              "      <td>0</td>\n",
              "      <td>General</td>\n",
              "      <td>Dresses</td>\n",
              "      <td>Dresses</td>\n",
              "      <td>Some major design flawsI had such high hopes f...</td>\n",
              "    </tr>\n",
              "    <tr>\n",
              "      <th>3</th>\n",
              "      <td>1049</td>\n",
              "      <td>50</td>\n",
              "      <td>My favorite buy!</td>\n",
              "      <td>I love, love, love this jumpsuit. it's fun, fl...</td>\n",
              "      <td>5</td>\n",
              "      <td>1</td>\n",
              "      <td>0</td>\n",
              "      <td>General Petite</td>\n",
              "      <td>Bottoms</td>\n",
              "      <td>Pants</td>\n",
              "      <td>My favorite buy!I love, love, love this jumpsu...</td>\n",
              "    </tr>\n",
              "    <tr>\n",
              "      <th>4</th>\n",
              "      <td>847</td>\n",
              "      <td>47</td>\n",
              "      <td>Flattering shirt</td>\n",
              "      <td>This shirt is very flattering to all due to th...</td>\n",
              "      <td>5</td>\n",
              "      <td>1</td>\n",
              "      <td>6</td>\n",
              "      <td>General</td>\n",
              "      <td>Tops</td>\n",
              "      <td>Blouses</td>\n",
              "      <td>Flattering shirtThis shirt is very flattering ...</td>\n",
              "    </tr>\n",
              "  </tbody>\n",
              "</table>\n",
              "</div>"
            ],
            "text/plain": [
              "     id  ...                                             review\n",
              "0   767  ...   Absolutely wonderful - silky and sexy and com...\n",
              "1  1080  ...   Love this dress!  it's sooo pretty.  i happen...\n",
              "2  1077  ...  Some major design flawsI had such high hopes f...\n",
              "3  1049  ...  My favorite buy!I love, love, love this jumpsu...\n",
              "4   847  ...  Flattering shirtThis shirt is very flattering ...\n",
              "\n",
              "[5 rows x 11 columns]"
            ]
          },
          "metadata": {
            "tags": []
          },
          "execution_count": 20
        }
      ]
    },
    {
      "cell_type": "code",
      "metadata": {
        "colab": {
          "base_uri": "https://localhost:8080/"
        },
        "id": "a3fFOpXHS-Zr",
        "outputId": "3e5b2d39-8758-427e-ec1f-78e6a673fefc"
      },
      "source": [
        "#Tokenization of text\n",
        "tokenizer=ToktokTokenizer()\n",
        "#Setting English stopwords\n",
        "nltk.download('stopwords')\n",
        "stopword_list = stopwords.words('english')\n",
        "#print(len(stopword_list))\n",
        "#stopword_list[0:10]\n",
        "#set stopwords to english\n",
        "stop=set(stopwords.words('english'))\n",
        "\n",
        "#removing the stopwords\n",
        "def remove_stopwords(text, is_lower_case=False):\n",
        "    tokens = tokenizer.tokenize(text)\n",
        "    tokens = [token.strip() for token in tokens]\n",
        "    if is_lower_case:\n",
        "        filtered_tokens = [token for token in tokens if token not in stopword_list]\n",
        "    else:\n",
        "        filtered_tokens = [token for token in tokens if token.lower() not in stopword_list]\n",
        "    filtered_text = ' '.join(filtered_tokens)    \n",
        "    return filtered_text\n",
        "#Apply function on review column\n",
        "file['review']=file['review'].apply(remove_stopwords)"
      ],
      "execution_count": null,
      "outputs": [
        {
          "output_type": "stream",
          "text": [
            "[nltk_data] Downloading package stopwords to /root/nltk_data...\n",
            "[nltk_data]   Unzipping corpora/stopwords.zip.\n"
          ],
          "name": "stdout"
        }
      ]
    },
    {
      "cell_type": "code",
      "metadata": {
        "id": "xECnLIbMT2vi"
      },
      "source": [
        "def remove_special_characters(text, remove_digits=True):\n",
        "    pattern=r'[^a-zA-z0-9\\s]'\n",
        "    text=re.sub(pattern,'',text)\n",
        "    return text\n",
        "#Apply function on review column\n",
        "#imdb_data['review']=imdb_data['review'].apply(remove_special_characters)\n",
        "file['review']=file['review'].apply(remove_special_characters)"
      ],
      "execution_count": null,
      "outputs": []
    },
    {
      "cell_type": "code",
      "metadata": {
        "id": "fJaRB9pCTRwD"
      },
      "source": [
        "#Removing the html strips\n",
        "def strip_html(text):\n",
        "    soup = BeautifulSoup(text, \"html.parser\")\n",
        "    return soup.get_text()\n",
        "\n",
        "#Removing the square brackets\n",
        "def remove_between_square_brackets(text):\n",
        "    return re.sub('\\[[^]]*\\]', '', text)\n",
        "\n",
        "#Removing the noisy text\n",
        "def denoise_text(text):\n",
        "    text = strip_html(text)\n",
        "    text = remove_between_square_brackets(text)\n",
        "    return text\n",
        "    \n",
        "#Apply function on review column\n",
        "file['review']=file['review'].apply(denoise_text)"
      ],
      "execution_count": null,
      "outputs": []
    },
    {
      "cell_type": "code",
      "metadata": {
        "id": "oCGzubROey7t"
      },
      "source": [
        "#Define function for removing special characters\n",
        "def remove_special_characters(text, remove_digits=True):\n",
        "    pattern=r'[^a-zA-z0-9\\s]'\n",
        "    text=re.sub(pattern,'',text)\n",
        "    return text\n",
        "#Apply function on review column\n",
        "file['review']=file['review'].apply(remove_special_characters)\n"
      ],
      "execution_count": null,
      "outputs": []
    },
    {
      "cell_type": "code",
      "metadata": {
        "id": "PG6OldiFe-QK"
      },
      "source": [
        "#Stemming the text\n",
        "def simple_stemmer(text):\n",
        "    ps=nltk.porter.PorterStemmer()\n",
        "    text= ' '.join([ps.stem(word) for word in text.split()])\n",
        "    return text\n",
        "#Apply function on review column\n",
        "file['review']=file['review'].apply(simple_stemmer)"
      ],
      "execution_count": null,
      "outputs": []
    },
    {
      "cell_type": "markdown",
      "metadata": {
        "id": "tQm42Z2Vcozz"
      },
      "source": [
        "## 4) preperaing for BOW and TFIDF model"
      ]
    },
    {
      "cell_type": "markdown",
      "metadata": {
        "id": "98O90ac9hkzc"
      },
      "source": [
        "**Spliting data to test and train**"
      ]
    },
    {
      "cell_type": "code",
      "metadata": {
        "colab": {
          "base_uri": "https://localhost:8080/"
        },
        "id": "6SxcfmJKhf3q",
        "outputId": "6c9cb55e-e13d-4150-c25e-3a2190153a9c"
      },
      "source": [
        "#labeling the sentient data\n",
        "lb=LabelBinarizer()\n",
        "#transformed sentiment data\n",
        "sentiment_data=lb.fit_transform(file.recommended_ind)\n",
        "print(sentiment_data.shape)"
      ],
      "execution_count": null,
      "outputs": [
        {
          "output_type": "stream",
          "text": [
            "(23486, 1)\n"
          ],
          "name": "stdout"
        }
      ]
    },
    {
      "cell_type": "code",
      "metadata": {
        "id": "aTm6QFGQcn3h"
      },
      "source": [
        "trian_size = round(len(file.recommended_ind)/4 *3)   # Split to 75% of train andand 25% of test data\n",
        "#Train Data\n",
        "train_reviews=file.review[:trian_size]\n",
        "#train_sentiments=file.recommended_ind[:trian_size]\n",
        "train_sentiments=sentiment_data[:trian_size]\n",
        "#Test Data\n",
        "test_reviews=file.review[trian_size:]\n",
        "#test_sentiments=file.recommended_ind[trian_size:]\n",
        "test_sentiments=sentiment_data[trian_size:]\n",
        "\n"
      ],
      "execution_count": null,
      "outputs": []
    },
    {
      "cell_type": "code",
      "metadata": {
        "colab": {
          "base_uri": "https://localhost:8080/"
        },
        "id": "PXcNQetCqy7k",
        "outputId": "873a622f-4f1b-4a4c-f0f0-04e93c161b78"
      },
      "source": [
        "train_reviews[0]"
      ],
      "execution_count": null,
      "outputs": [
        {
          "output_type": "execute_result",
          "data": {
            "application/vnd.google.colaboratory.intrinsic+json": {
              "type": "string"
            },
            "text/plain": [
              "'absolut wonder silki sexi comfort'"
            ]
          },
          "metadata": {
            "tags": []
          },
          "execution_count": 28
        }
      ]
    },
    {
      "cell_type": "code",
      "metadata": {
        "colab": {
          "base_uri": "https://localhost:8080/"
        },
        "id": "5c8jZSrqgLGb",
        "outputId": "524896ad-9afe-40fb-ce63-4b4e098c3f7e"
      },
      "source": [
        "#Count vectorizer for bag of words\n",
        "#cv=CountVectorizer(min_df=0,max_df=1,binary=False,ngram_range=(1,3))\n",
        "cv=CountVectorizer(min_df=5,ngram_range=(1,4))\n",
        "# https://scikit-learn.org/stable/modules/generated/sklearn.feature_extraction.text.CountVectorizer.html\n",
        "#transformed train reviews\n",
        "cv_train_reviews=cv.fit_transform(train_reviews)\n",
        "#transformed test reviews\n",
        "cv_test_reviews=cv.transform(test_reviews)\n",
        "\n",
        "##cv_train_reviews = cv_train_reviews.toarray()\n",
        "##cv_test_reviews = cv_test_reviews.toarray()\n",
        "\n",
        "print('BOW_cv_train:',cv_train_reviews.shape)\n",
        "print('BOW_cv_test:',cv_test_reviews.shape)\n"
      ],
      "execution_count": null,
      "outputs": [
        {
          "output_type": "stream",
          "text": [
            "BOW_cv_train: (17614, 23183)\n",
            "BOW_cv_test: (5872, 23183)\n"
          ],
          "name": "stdout"
        }
      ]
    },
    {
      "cell_type": "code",
      "metadata": {
        "colab": {
          "base_uri": "https://localhost:8080/"
        },
        "id": "FbioUXyPg_oy",
        "outputId": "51772b2a-ee6f-4859-c2e3-3ac20080bb63"
      },
      "source": [
        "#Tfidf vectorizer\n",
        "#tv=TfidfVectorizer(min_df=0,max_df=1,use_idf=True,ngram_range=(1,3))\n",
        "tv=TfidfVectorizer(min_df=5,ngram_range=(1,4))\n",
        "#transformed train reviews\n",
        "tv_train_reviews=tv.fit_transform(train_reviews)\n",
        "#transformed test reviews\n",
        "tv_test_reviews=tv.transform(test_reviews)\n",
        "print('Tfidf_train:',tv_train_reviews.shape)\n",
        "print('Tfidf_test:',tv_test_reviews.shape)"
      ],
      "execution_count": null,
      "outputs": [
        {
          "output_type": "stream",
          "text": [
            "Tfidf_train: (17614, 23183)\n",
            "Tfidf_test: (5872, 23183)\n"
          ],
          "name": "stdout"
        }
      ]
    },
    {
      "cell_type": "markdown",
      "metadata": {
        "id": "ZSWIZUaNk3oP"
      },
      "source": [
        "5) Creating Features "
      ]
    },
    {
      "cell_type": "markdown",
      "metadata": {
        "id": "Y43KCvVtk-sr"
      },
      "source": [
        "We will try to create some weight for the postive feedback count to emphsize the rating which was given. \n",
        "For that we multiply the raitng with the positive feedback count.\n"
      ]
    },
    {
      "cell_type": "code",
      "metadata": {
        "colab": {
          "base_uri": "https://localhost:8080/"
        },
        "id": "-vyfssuzk26Q",
        "outputId": "de83ba57-72b0-4bcb-ea4b-4cdad55ada67"
      },
      "source": [
        "file['weighted_rating']= file.rating*(1+file.positive_feedback_count) \n",
        "file.head()"
      ],
      "execution_count": null,
      "outputs": [
        {
          "output_type": "execute_result",
          "data": {
            "text/html": [
              "<div>\n",
              "<style scoped>\n",
              "    .dataframe tbody tr th:only-of-type {\n",
              "        vertical-align: middle;\n",
              "    }\n",
              "\n",
              "    .dataframe tbody tr th {\n",
              "        vertical-align: top;\n",
              "    }\n",
              "\n",
              "    .dataframe thead th {\n",
              "        text-align: right;\n",
              "    }\n",
              "</style>\n",
              "<table border=\"1\" class=\"dataframe\">\n",
              "  <thead>\n",
              "    <tr style=\"text-align: right;\">\n",
              "      <th></th>\n",
              "      <th>id</th>\n",
              "      <th>reviewer_age</th>\n",
              "      <th>title</th>\n",
              "      <th>review_text</th>\n",
              "      <th>rating</th>\n",
              "      <th>recommended_ind</th>\n",
              "      <th>positive_feedback_count</th>\n",
              "      <th>div_name</th>\n",
              "      <th>dept_name</th>\n",
              "      <th>class</th>\n",
              "      <th>review</th>\n",
              "      <th>weighted_rating</th>\n",
              "    </tr>\n",
              "  </thead>\n",
              "  <tbody>\n",
              "    <tr>\n",
              "      <th>0</th>\n",
              "      <td>767</td>\n",
              "      <td>33</td>\n",
              "      <td></td>\n",
              "      <td>Absolutely wonderful - silky and sexy and comf...</td>\n",
              "      <td>4</td>\n",
              "      <td>1</td>\n",
              "      <td>0</td>\n",
              "      <td>Initmates</td>\n",
              "      <td>Intimate</td>\n",
              "      <td>Intimates</td>\n",
              "      <td>absolut wonder silki sexi comfort</td>\n",
              "      <td>4</td>\n",
              "    </tr>\n",
              "    <tr>\n",
              "      <th>1</th>\n",
              "      <td>1080</td>\n",
              "      <td>34</td>\n",
              "      <td></td>\n",
              "      <td>Love this dress!  it's sooo pretty.  i happene...</td>\n",
              "      <td>5</td>\n",
              "      <td>1</td>\n",
              "      <td>4</td>\n",
              "      <td>General</td>\n",
              "      <td>Dresses</td>\n",
              "      <td>Dresses</td>\n",
              "      <td>love dress sooo pretti happen find store glad ...</td>\n",
              "      <td>25</td>\n",
              "    </tr>\n",
              "    <tr>\n",
              "      <th>2</th>\n",
              "      <td>1077</td>\n",
              "      <td>60</td>\n",
              "      <td>Some major design flaws</td>\n",
              "      <td>I had such high hopes for this dress and reall...</td>\n",
              "      <td>3</td>\n",
              "      <td>0</td>\n",
              "      <td>0</td>\n",
              "      <td>General</td>\n",
              "      <td>Dresses</td>\n",
              "      <td>Dresses</td>\n",
              "      <td>major design flawsi high hope dress realli wan...</td>\n",
              "      <td>3</td>\n",
              "    </tr>\n",
              "    <tr>\n",
              "      <th>3</th>\n",
              "      <td>1049</td>\n",
              "      <td>50</td>\n",
              "      <td>My favorite buy!</td>\n",
              "      <td>I love, love, love this jumpsuit. it's fun, fl...</td>\n",
              "      <td>5</td>\n",
              "      <td>1</td>\n",
              "      <td>0</td>\n",
              "      <td>General Petite</td>\n",
              "      <td>Bottoms</td>\n",
              "      <td>Pants</td>\n",
              "      <td>favorit buy love love love jumpsuit fun flirti...</td>\n",
              "      <td>5</td>\n",
              "    </tr>\n",
              "    <tr>\n",
              "      <th>4</th>\n",
              "      <td>847</td>\n",
              "      <td>47</td>\n",
              "      <td>Flattering shirt</td>\n",
              "      <td>This shirt is very flattering to all due to th...</td>\n",
              "      <td>5</td>\n",
              "      <td>1</td>\n",
              "      <td>6</td>\n",
              "      <td>General</td>\n",
              "      <td>Tops</td>\n",
              "      <td>Blouses</td>\n",
              "      <td>flatter shirtthi shirt flatter due adjust fron...</td>\n",
              "      <td>35</td>\n",
              "    </tr>\n",
              "  </tbody>\n",
              "</table>\n",
              "</div>"
            ],
            "text/plain": [
              "     id  ...  weighted_rating\n",
              "0   767  ...                4\n",
              "1  1080  ...               25\n",
              "2  1077  ...                3\n",
              "3  1049  ...                5\n",
              "4   847  ...               35\n",
              "\n",
              "[5 rows x 12 columns]"
            ]
          },
          "metadata": {
            "tags": []
          },
          "execution_count": 31
        }
      ]
    },
    {
      "cell_type": "code",
      "metadata": {
        "id": "2PMTXM178Oxq"
      },
      "source": [
        "file['words_count'] = file['review_text'].str.split().str.len()\n"
      ],
      "execution_count": null,
      "outputs": []
    },
    {
      "cell_type": "code",
      "metadata": {
        "colab": {
          "base_uri": "https://localhost:8080/"
        },
        "id": "lCRFVJJ08bQd",
        "outputId": "f342a4ef-425d-4f57-e5a9-47e759ebd27f"
      },
      "source": [
        "file.head()"
      ],
      "execution_count": null,
      "outputs": [
        {
          "output_type": "execute_result",
          "data": {
            "text/html": [
              "<div>\n",
              "<style scoped>\n",
              "    .dataframe tbody tr th:only-of-type {\n",
              "        vertical-align: middle;\n",
              "    }\n",
              "\n",
              "    .dataframe tbody tr th {\n",
              "        vertical-align: top;\n",
              "    }\n",
              "\n",
              "    .dataframe thead th {\n",
              "        text-align: right;\n",
              "    }\n",
              "</style>\n",
              "<table border=\"1\" class=\"dataframe\">\n",
              "  <thead>\n",
              "    <tr style=\"text-align: right;\">\n",
              "      <th></th>\n",
              "      <th>id</th>\n",
              "      <th>reviewer_age</th>\n",
              "      <th>title</th>\n",
              "      <th>review_text</th>\n",
              "      <th>rating</th>\n",
              "      <th>recommended_ind</th>\n",
              "      <th>positive_feedback_count</th>\n",
              "      <th>div_name</th>\n",
              "      <th>dept_name</th>\n",
              "      <th>class</th>\n",
              "      <th>review</th>\n",
              "      <th>weighted_rating</th>\n",
              "      <th>words_count</th>\n",
              "    </tr>\n",
              "  </thead>\n",
              "  <tbody>\n",
              "    <tr>\n",
              "      <th>0</th>\n",
              "      <td>767</td>\n",
              "      <td>33</td>\n",
              "      <td></td>\n",
              "      <td>Absolutely wonderful - silky and sexy and comf...</td>\n",
              "      <td>4</td>\n",
              "      <td>1</td>\n",
              "      <td>0</td>\n",
              "      <td>Initmates</td>\n",
              "      <td>Intimate</td>\n",
              "      <td>Intimates</td>\n",
              "      <td>absolut wonder silki sexi comfort</td>\n",
              "      <td>4</td>\n",
              "      <td>8</td>\n",
              "    </tr>\n",
              "    <tr>\n",
              "      <th>1</th>\n",
              "      <td>1080</td>\n",
              "      <td>34</td>\n",
              "      <td></td>\n",
              "      <td>Love this dress!  it's sooo pretty.  i happene...</td>\n",
              "      <td>5</td>\n",
              "      <td>1</td>\n",
              "      <td>4</td>\n",
              "      <td>General</td>\n",
              "      <td>Dresses</td>\n",
              "      <td>Dresses</td>\n",
              "      <td>love dress sooo pretti happen find store glad ...</td>\n",
              "      <td>25</td>\n",
              "      <td>62</td>\n",
              "    </tr>\n",
              "    <tr>\n",
              "      <th>2</th>\n",
              "      <td>1077</td>\n",
              "      <td>60</td>\n",
              "      <td>Some major design flaws</td>\n",
              "      <td>I had such high hopes for this dress and reall...</td>\n",
              "      <td>3</td>\n",
              "      <td>0</td>\n",
              "      <td>0</td>\n",
              "      <td>General</td>\n",
              "      <td>Dresses</td>\n",
              "      <td>Dresses</td>\n",
              "      <td>major design flawsi high hope dress realli wan...</td>\n",
              "      <td>3</td>\n",
              "      <td>98</td>\n",
              "    </tr>\n",
              "    <tr>\n",
              "      <th>3</th>\n",
              "      <td>1049</td>\n",
              "      <td>50</td>\n",
              "      <td>My favorite buy!</td>\n",
              "      <td>I love, love, love this jumpsuit. it's fun, fl...</td>\n",
              "      <td>5</td>\n",
              "      <td>1</td>\n",
              "      <td>0</td>\n",
              "      <td>General Petite</td>\n",
              "      <td>Bottoms</td>\n",
              "      <td>Pants</td>\n",
              "      <td>favorit buy love love love jumpsuit fun flirti...</td>\n",
              "      <td>5</td>\n",
              "      <td>22</td>\n",
              "    </tr>\n",
              "    <tr>\n",
              "      <th>4</th>\n",
              "      <td>847</td>\n",
              "      <td>47</td>\n",
              "      <td>Flattering shirt</td>\n",
              "      <td>This shirt is very flattering to all due to th...</td>\n",
              "      <td>5</td>\n",
              "      <td>1</td>\n",
              "      <td>6</td>\n",
              "      <td>General</td>\n",
              "      <td>Tops</td>\n",
              "      <td>Blouses</td>\n",
              "      <td>flatter shirtthi shirt flatter due adjust fron...</td>\n",
              "      <td>35</td>\n",
              "      <td>36</td>\n",
              "    </tr>\n",
              "  </tbody>\n",
              "</table>\n",
              "</div>"
            ],
            "text/plain": [
              "     id  reviewer_age  ... weighted_rating words_count\n",
              "0   767            33  ...               4           8\n",
              "1  1080            34  ...              25          62\n",
              "2  1077            60  ...               3          98\n",
              "3  1049            50  ...               5          22\n",
              "4   847            47  ...              35          36\n",
              "\n",
              "[5 rows x 13 columns]"
            ]
          },
          "metadata": {
            "tags": []
          },
          "execution_count": 33
        }
      ]
    },
    {
      "cell_type": "markdown",
      "metadata": {
        "id": "AUr2VfBuddNw"
      },
      "source": [
        "# Question 2 - creating a dictionary"
      ]
    },
    {
      "cell_type": "markdown",
      "metadata": {
        "id": "SnmWHQCfaYwt"
      },
      "source": [
        "## 1) Implementing a dictionary based analysis *classifier*"
      ]
    },
    {
      "cell_type": "code",
      "metadata": {
        "colab": {
          "base_uri": "https://localhost:8080/"
        },
        "id": "vVOpOTDRaWwS",
        "outputId": "d59e8a80-f192-4f1d-fb00-799e9f58856b"
      },
      "source": [
        "nltk.download('vader_lexicon')"
      ],
      "execution_count": null,
      "outputs": [
        {
          "output_type": "stream",
          "text": [
            "[nltk_data] Downloading package vader_lexicon to /root/nltk_data...\n"
          ],
          "name": "stdout"
        },
        {
          "output_type": "execute_result",
          "data": {
            "text/plain": [
              "True"
            ]
          },
          "metadata": {
            "tags": []
          },
          "execution_count": 34
        }
      ]
    },
    {
      "cell_type": "code",
      "metadata": {
        "colab": {
          "base_uri": "https://localhost:8080/"
        },
        "id": "zacD-qXaaWz6",
        "outputId": "c2bceca6-8eaa-47b0-93a1-9578a854bc6c"
      },
      "source": [
        "sid = SentimentIntensityAnalyzer()\n",
        "sentiment = sid.polarity_scores(\"The food was very bad\")\n",
        "sentiment"
      ],
      "execution_count": null,
      "outputs": [
        {
          "output_type": "execute_result",
          "data": {
            "text/plain": [
              "{'compound': -0.5849, 'neg': 0.487, 'neu': 0.513, 'pos': 0.0}"
            ]
          },
          "metadata": {
            "tags": []
          },
          "execution_count": 35
        }
      ]
    },
    {
      "cell_type": "code",
      "metadata": {
        "colab": {
          "base_uri": "https://localhost:8080/"
        },
        "id": "cDq9IbCpaW1-",
        "outputId": "6d9bab34-71c4-49ec-87cb-d14c2f76d339"
      },
      "source": [
        "dict_based_df = file[['id','recommended_ind', 'review']]\n",
        "dict_based_df.head()"
      ],
      "execution_count": null,
      "outputs": [
        {
          "output_type": "execute_result",
          "data": {
            "text/html": [
              "<div>\n",
              "<style scoped>\n",
              "    .dataframe tbody tr th:only-of-type {\n",
              "        vertical-align: middle;\n",
              "    }\n",
              "\n",
              "    .dataframe tbody tr th {\n",
              "        vertical-align: top;\n",
              "    }\n",
              "\n",
              "    .dataframe thead th {\n",
              "        text-align: right;\n",
              "    }\n",
              "</style>\n",
              "<table border=\"1\" class=\"dataframe\">\n",
              "  <thead>\n",
              "    <tr style=\"text-align: right;\">\n",
              "      <th></th>\n",
              "      <th>id</th>\n",
              "      <th>recommended_ind</th>\n",
              "      <th>review</th>\n",
              "    </tr>\n",
              "  </thead>\n",
              "  <tbody>\n",
              "    <tr>\n",
              "      <th>0</th>\n",
              "      <td>767</td>\n",
              "      <td>1</td>\n",
              "      <td>absolut wonder silki sexi comfort</td>\n",
              "    </tr>\n",
              "    <tr>\n",
              "      <th>1</th>\n",
              "      <td>1080</td>\n",
              "      <td>1</td>\n",
              "      <td>love dress sooo pretti happen find store glad ...</td>\n",
              "    </tr>\n",
              "    <tr>\n",
              "      <th>2</th>\n",
              "      <td>1077</td>\n",
              "      <td>0</td>\n",
              "      <td>major design flawsi high hope dress realli wan...</td>\n",
              "    </tr>\n",
              "    <tr>\n",
              "      <th>3</th>\n",
              "      <td>1049</td>\n",
              "      <td>1</td>\n",
              "      <td>favorit buy love love love jumpsuit fun flirti...</td>\n",
              "    </tr>\n",
              "    <tr>\n",
              "      <th>4</th>\n",
              "      <td>847</td>\n",
              "      <td>1</td>\n",
              "      <td>flatter shirtthi shirt flatter due adjust fron...</td>\n",
              "    </tr>\n",
              "  </tbody>\n",
              "</table>\n",
              "</div>"
            ],
            "text/plain": [
              "     id  recommended_ind                                             review\n",
              "0   767                1                  absolut wonder silki sexi comfort\n",
              "1  1080                1  love dress sooo pretti happen find store glad ...\n",
              "2  1077                0  major design flawsi high hope dress realli wan...\n",
              "3  1049                1  favorit buy love love love jumpsuit fun flirti...\n",
              "4   847                1  flatter shirtthi shirt flatter due adjust fron..."
            ]
          },
          "metadata": {
            "tags": []
          },
          "execution_count": 36
        }
      ]
    },
    {
      "cell_type": "code",
      "metadata": {
        "colab": {
          "base_uri": "https://localhost:8080/"
        },
        "id": "ndWLam6YaW4p",
        "outputId": "d16bbc61-e92a-413a-cf86-6bf8d2140f47"
      },
      "source": [
        "for idx, row in dict_based_df.iterrows():\n",
        "  dict_based_df.loc[idx, 'vl_compound'] = sid.polarity_scores(dict_based_df.loc[idx, 'review'])['compound']\n",
        "dict_based_df.head()  "
      ],
      "execution_count": null,
      "outputs": [
        {
          "output_type": "stream",
          "text": [
            "/usr/local/lib/python3.6/dist-packages/pandas/core/indexing.py:1596: SettingWithCopyWarning: \n",
            "A value is trying to be set on a copy of a slice from a DataFrame.\n",
            "Try using .loc[row_indexer,col_indexer] = value instead\n",
            "\n",
            "See the caveats in the documentation: https://pandas.pydata.org/pandas-docs/stable/user_guide/indexing.html#returning-a-view-versus-a-copy\n",
            "  self.obj[key] = _infer_fill_value(value)\n",
            "/usr/local/lib/python3.6/dist-packages/pandas/core/indexing.py:1763: SettingWithCopyWarning: \n",
            "A value is trying to be set on a copy of a slice from a DataFrame.\n",
            "Try using .loc[row_indexer,col_indexer] = value instead\n",
            "\n",
            "See the caveats in the documentation: https://pandas.pydata.org/pandas-docs/stable/user_guide/indexing.html#returning-a-view-versus-a-copy\n",
            "  isetter(loc, value)\n"
          ],
          "name": "stderr"
        },
        {
          "output_type": "execute_result",
          "data": {
            "text/html": [
              "<div>\n",
              "<style scoped>\n",
              "    .dataframe tbody tr th:only-of-type {\n",
              "        vertical-align: middle;\n",
              "    }\n",
              "\n",
              "    .dataframe tbody tr th {\n",
              "        vertical-align: top;\n",
              "    }\n",
              "\n",
              "    .dataframe thead th {\n",
              "        text-align: right;\n",
              "    }\n",
              "</style>\n",
              "<table border=\"1\" class=\"dataframe\">\n",
              "  <thead>\n",
              "    <tr style=\"text-align: right;\">\n",
              "      <th></th>\n",
              "      <th>id</th>\n",
              "      <th>recommended_ind</th>\n",
              "      <th>review</th>\n",
              "      <th>vl_compound</th>\n",
              "    </tr>\n",
              "  </thead>\n",
              "  <tbody>\n",
              "    <tr>\n",
              "      <th>0</th>\n",
              "      <td>767</td>\n",
              "      <td>1</td>\n",
              "      <td>absolut wonder silki sexi comfort</td>\n",
              "      <td>0.3612</td>\n",
              "    </tr>\n",
              "    <tr>\n",
              "      <th>1</th>\n",
              "      <td>1080</td>\n",
              "      <td>1</td>\n",
              "      <td>love dress sooo pretti happen find store glad ...</td>\n",
              "      <td>0.9349</td>\n",
              "    </tr>\n",
              "    <tr>\n",
              "      <th>2</th>\n",
              "      <td>1077</td>\n",
              "      <td>0</td>\n",
              "      <td>major design flawsi high hope dress realli wan...</td>\n",
              "      <td>0.9186</td>\n",
              "    </tr>\n",
              "    <tr>\n",
              "      <th>3</th>\n",
              "      <td>1049</td>\n",
              "      <td>1</td>\n",
              "      <td>favorit buy love love love jumpsuit fun flirti...</td>\n",
              "      <td>0.9753</td>\n",
              "    </tr>\n",
              "    <tr>\n",
              "      <th>4</th>\n",
              "      <td>847</td>\n",
              "      <td>1</td>\n",
              "      <td>flatter shirtthi shirt flatter due adjust fron...</td>\n",
              "      <td>0.8957</td>\n",
              "    </tr>\n",
              "  </tbody>\n",
              "</table>\n",
              "</div>"
            ],
            "text/plain": [
              "     id  ...  vl_compound\n",
              "0   767  ...       0.3612\n",
              "1  1080  ...       0.9349\n",
              "2  1077  ...       0.9186\n",
              "3  1049  ...       0.9753\n",
              "4   847  ...       0.8957\n",
              "\n",
              "[5 rows x 4 columns]"
            ]
          },
          "metadata": {
            "tags": []
          },
          "execution_count": 37
        }
      ]
    },
    {
      "cell_type": "markdown",
      "metadata": {
        "id": "gfLWs6vMa0nT"
      },
      "source": [
        "## 2) Comparing to textblob sentiment method\n"
      ]
    },
    {
      "cell_type": "markdown",
      "metadata": {
        "id": "3Y2abURPa6od"
      },
      "source": [
        "Adding the textblob polarity column"
      ]
    },
    {
      "cell_type": "code",
      "metadata": {
        "colab": {
          "base_uri": "https://localhost:8080/"
        },
        "id": "zH-tE0ikaW91",
        "outputId": "6f4e12fa-27ba-44f6-df7e-f03259ab1b24"
      },
      "source": [
        "for idx, row in dict_based_df.iterrows():\n",
        "  dict_based_df.loc[idx, 'text_blob_polar'] = TextBlob(dict_based_df.loc[idx, 'review']).sentiment.polarity\n",
        "dict_based_df.head()  "
      ],
      "execution_count": null,
      "outputs": [
        {
          "output_type": "stream",
          "text": [
            "/usr/local/lib/python3.6/dist-packages/pandas/core/indexing.py:1596: SettingWithCopyWarning: \n",
            "A value is trying to be set on a copy of a slice from a DataFrame.\n",
            "Try using .loc[row_indexer,col_indexer] = value instead\n",
            "\n",
            "See the caveats in the documentation: https://pandas.pydata.org/pandas-docs/stable/user_guide/indexing.html#returning-a-view-versus-a-copy\n",
            "  self.obj[key] = _infer_fill_value(value)\n",
            "/usr/local/lib/python3.6/dist-packages/pandas/core/indexing.py:1763: SettingWithCopyWarning: \n",
            "A value is trying to be set on a copy of a slice from a DataFrame.\n",
            "Try using .loc[row_indexer,col_indexer] = value instead\n",
            "\n",
            "See the caveats in the documentation: https://pandas.pydata.org/pandas-docs/stable/user_guide/indexing.html#returning-a-view-versus-a-copy\n",
            "  isetter(loc, value)\n"
          ],
          "name": "stderr"
        },
        {
          "output_type": "execute_result",
          "data": {
            "text/html": [
              "<div>\n",
              "<style scoped>\n",
              "    .dataframe tbody tr th:only-of-type {\n",
              "        vertical-align: middle;\n",
              "    }\n",
              "\n",
              "    .dataframe tbody tr th {\n",
              "        vertical-align: top;\n",
              "    }\n",
              "\n",
              "    .dataframe thead th {\n",
              "        text-align: right;\n",
              "    }\n",
              "</style>\n",
              "<table border=\"1\" class=\"dataframe\">\n",
              "  <thead>\n",
              "    <tr style=\"text-align: right;\">\n",
              "      <th></th>\n",
              "      <th>id</th>\n",
              "      <th>recommended_ind</th>\n",
              "      <th>review</th>\n",
              "      <th>vl_compound</th>\n",
              "      <th>text_blob_polar</th>\n",
              "    </tr>\n",
              "  </thead>\n",
              "  <tbody>\n",
              "    <tr>\n",
              "      <th>0</th>\n",
              "      <td>767</td>\n",
              "      <td>1</td>\n",
              "      <td>absolut wonder silki sexi comfort</td>\n",
              "      <td>0.3612</td>\n",
              "      <td>0.000000</td>\n",
              "    </tr>\n",
              "    <tr>\n",
              "      <th>1</th>\n",
              "      <td>1080</td>\n",
              "      <td>1</td>\n",
              "      <td>love dress sooo pretti happen find store glad ...</td>\n",
              "      <td>0.9349</td>\n",
              "      <td>0.462500</td>\n",
              "    </tr>\n",
              "    <tr>\n",
              "      <th>2</th>\n",
              "      <td>1077</td>\n",
              "      <td>0</td>\n",
              "      <td>major design flawsi high hope dress realli wan...</td>\n",
              "      <td>0.9186</td>\n",
              "      <td>0.069006</td>\n",
              "    </tr>\n",
              "    <tr>\n",
              "      <th>3</th>\n",
              "      <td>1049</td>\n",
              "      <td>1</td>\n",
              "      <td>favorit buy love love love jumpsuit fun flirti...</td>\n",
              "      <td>0.9753</td>\n",
              "      <td>0.520000</td>\n",
              "    </tr>\n",
              "    <tr>\n",
              "      <th>4</th>\n",
              "      <td>847</td>\n",
              "      <td>1</td>\n",
              "      <td>flatter shirtthi shirt flatter due adjust fron...</td>\n",
              "      <td>0.8957</td>\n",
              "      <td>0.458333</td>\n",
              "    </tr>\n",
              "  </tbody>\n",
              "</table>\n",
              "</div>"
            ],
            "text/plain": [
              "     id  recommended_ind  ... vl_compound  text_blob_polar\n",
              "0   767                1  ...      0.3612         0.000000\n",
              "1  1080                1  ...      0.9349         0.462500\n",
              "2  1077                0  ...      0.9186         0.069006\n",
              "3  1049                1  ...      0.9753         0.520000\n",
              "4   847                1  ...      0.8957         0.458333\n",
              "\n",
              "[5 rows x 5 columns]"
            ]
          },
          "metadata": {
            "tags": []
          },
          "execution_count": 38
        }
      ]
    },
    {
      "cell_type": "code",
      "metadata": {
        "colab": {
          "base_uri": "https://localhost:8080/"
        },
        "id": "2vBZQ7lyaXA2",
        "outputId": "8bf3c05a-a6a6-4990-f89d-bbbd3e372fb9"
      },
      "source": [
        "corr_results = dict_based_df[['recommended_ind', 'vl_compound', 'text_blob_polar']].corr()\n",
        "print(corr_results['recommended_ind'])"
      ],
      "execution_count": null,
      "outputs": [
        {
          "output_type": "stream",
          "text": [
            "recommended_ind    1.000000\n",
            "vl_compound        0.247450\n",
            "text_blob_polar    0.214681\n",
            "Name: recommended_ind, dtype: float64\n"
          ],
          "name": "stdout"
        }
      ]
    },
    {
      "cell_type": "markdown",
      "metadata": {
        "id": "naupVi0GbD0L"
      },
      "source": [
        "Seems like the vader_lexicon is a bit more correlated with the recommended column, though we still found some issues with both models when manually checked on the reviews and data"
      ]
    },
    {
      "cell_type": "markdown",
      "metadata": {
        "id": "KvPZH2wzQw1C"
      },
      "source": [
        "# Question 3 - Classification models"
      ]
    },
    {
      "cell_type": "markdown",
      "metadata": {
        "id": "QU4ABkeGb1qN"
      },
      "source": [
        "### (1) **Our Classificaiton Question** -  \n",
        "\n",
        "## What is the likelihood that a product will be recomened by our customers ?\n",
        "###  On one model we will try to predict this question based on the review\n",
        "###  On second model we will try to predict this based on the normalized rating.\n",
        "\n",
        "The Buisness imporant is to feagure out if a text review is more important than a random rating number. \n",
        "We do see on the data (for example in line 2) - that people can rate a product as 3 but not to recomend it. \n",
        "\n",
        "If we will understand that text can predict better a user recomendation - we might focus on social media or even to ease people text review writing. "
      ]
    },
    {
      "cell_type": "markdown",
      "metadata": {
        "id": "DoC0vS6FNHd7"
      },
      "source": [
        "### (2) Implement Logistic Regrssion Clasifier "
      ]
    },
    {
      "cell_type": "markdown",
      "metadata": {
        "id": "jTKFMha1KZQO"
      },
      "source": [
        "*Our Choise is to compare the features vs Logistic Regression Model*\n",
        "\n",
        "\n"
      ]
    },
    {
      "cell_type": "code",
      "metadata": {
        "colab": {
          "base_uri": "https://localhost:8080/"
        },
        "id": "rH8S4kWuVeZy",
        "outputId": "d753d7a9-9d20-4f7c-f1f3-5bf87b804c29"
      },
      "source": [
        "#training the model\n",
        "lr=LogisticRegression(penalty='l2',max_iter=500,C=1,random_state=42)\n",
        "#Fitting the model for Bag of words\n",
        "lr_bow=lr.fit(cv_train_reviews,train_sentiments)\n",
        "print(lr_bow)\n",
        "#Fitting the model for tfidf features\n",
        "lr_tfidf=lr.fit(tv_train_reviews,train_sentiments)\n",
        "print(lr_tfidf)"
      ],
      "execution_count": null,
      "outputs": [
        {
          "output_type": "stream",
          "text": [
            "/usr/local/lib/python3.6/dist-packages/sklearn/utils/validation.py:760: DataConversionWarning: A column-vector y was passed when a 1d array was expected. Please change the shape of y to (n_samples, ), for example using ravel().\n",
            "  y = column_or_1d(y, warn=True)\n"
          ],
          "name": "stderr"
        },
        {
          "output_type": "stream",
          "text": [
            "LogisticRegression(C=1, class_weight=None, dual=False, fit_intercept=True,\n",
            "                   intercept_scaling=1, l1_ratio=None, max_iter=500,\n",
            "                   multi_class='auto', n_jobs=None, penalty='l2',\n",
            "                   random_state=42, solver='lbfgs', tol=0.0001, verbose=0,\n",
            "                   warm_start=False)\n"
          ],
          "name": "stdout"
        },
        {
          "output_type": "stream",
          "text": [
            "/usr/local/lib/python3.6/dist-packages/sklearn/utils/validation.py:760: DataConversionWarning: A column-vector y was passed when a 1d array was expected. Please change the shape of y to (n_samples, ), for example using ravel().\n",
            "  y = column_or_1d(y, warn=True)\n"
          ],
          "name": "stderr"
        },
        {
          "output_type": "stream",
          "text": [
            "LogisticRegression(C=1, class_weight=None, dual=False, fit_intercept=True,\n",
            "                   intercept_scaling=1, l1_ratio=None, max_iter=500,\n",
            "                   multi_class='auto', n_jobs=None, penalty='l2',\n",
            "                   random_state=42, solver='lbfgs', tol=0.0001, verbose=0,\n",
            "                   warm_start=False)\n"
          ],
          "name": "stdout"
        }
      ]
    },
    {
      "cell_type": "code",
      "metadata": {
        "colab": {
          "base_uri": "https://localhost:8080/"
        },
        "id": "CtVGCJBiVoiT",
        "outputId": "72224a33-ca09-4656-a8a2-ed6cc4c18704"
      },
      "source": [
        "#Predicting the model for bag of words\n",
        "lr_bow_predict=lr.predict(cv_test_reviews)\n",
        "print(lr_bow_predict)\n",
        "##Predicting the model for tfidf features\n",
        "lr_tfidf_predict=lr.predict(tv_test_reviews)\n",
        "print(lr_tfidf_predict)"
      ],
      "execution_count": null,
      "outputs": [
        {
          "output_type": "stream",
          "text": [
            "[1 1 1 ... 0 1 1]\n",
            "[1 1 1 ... 1 1 1]\n"
          ],
          "name": "stdout"
        }
      ]
    },
    {
      "cell_type": "markdown",
      "metadata": {
        "id": "9vFXdQJsM60b"
      },
      "source": [
        "### (3) Logistic Regrssion Model resutls"
      ]
    },
    {
      "cell_type": "code",
      "metadata": {
        "colab": {
          "base_uri": "https://localhost:8080/"
        },
        "id": "0gcebQw-VrUr",
        "outputId": "7064fd35-32e8-49c6-c112-8e3748cf32f2"
      },
      "source": [
        "#Accuracy score for bag of words\n",
        "lr_bow_score=accuracy_score(test_sentiments,lr_bow_predict)\n",
        "print(\"lr_bow_score :\",lr_bow_score)\n",
        "#Accuracy score for tfidf features\n",
        "lr_tfidf_score=accuracy_score(test_sentiments,lr_tfidf_predict)\n",
        "print(\"lr_tfidf_score :\",lr_tfidf_score)"
      ],
      "execution_count": null,
      "outputs": [
        {
          "output_type": "stream",
          "text": [
            "lr_bow_score : 0.8596730245231607\n",
            "lr_tfidf_score : 0.8928814713896458\n"
          ],
          "name": "stdout"
        }
      ]
    },
    {
      "cell_type": "code",
      "metadata": {
        "colab": {
          "base_uri": "https://localhost:8080/"
        },
        "id": "JzIHvqcCVtf6",
        "outputId": "a94ac74a-f925-4de9-b155-00eaf895fae5"
      },
      "source": [
        "#Classification report for bag of words \n",
        "lr_bow_report=classification_report(test_sentiments,lr_bow_predict,target_names=['Positive','Negative'])\n",
        "print(lr_bow_report)\n",
        "\n",
        "#Classification report for tfidf features\n",
        "lr_tfidf_report=classification_report(test_sentiments,lr_tfidf_predict,target_names=['Positive','Negative'])\n",
        "print(lr_tfidf_report)"
      ],
      "execution_count": null,
      "outputs": [
        {
          "output_type": "stream",
          "text": [
            "              precision    recall  f1-score   support\n",
            "\n",
            "    Positive       0.57      0.84      0.68      1043\n",
            "    Negative       0.96      0.86      0.91      4829\n",
            "\n",
            "    accuracy                           0.86      5872\n",
            "   macro avg       0.77      0.85      0.79      5872\n",
            "weighted avg       0.89      0.86      0.87      5872\n",
            "\n",
            "              precision    recall  f1-score   support\n",
            "\n",
            "    Positive       0.83      0.50      0.62      1043\n",
            "    Negative       0.90      0.98      0.94      4829\n",
            "\n",
            "    accuracy                           0.89      5872\n",
            "   macro avg       0.87      0.74      0.78      5872\n",
            "weighted avg       0.89      0.89      0.88      5872\n",
            "\n"
          ],
          "name": "stdout"
        }
      ]
    },
    {
      "cell_type": "code",
      "metadata": {
        "colab": {
          "base_uri": "https://localhost:8080/"
        },
        "id": "aH5kC7AUVwId",
        "outputId": "eede8c54-a02b-4c9b-ce01-33e6ddebcd22"
      },
      "source": [
        "#confusion matrix for bag of words\n",
        "cm_bow=confusion_matrix(test_sentiments,lr_bow_predict,labels=[1,0])\n",
        "print(cm_bow)\n",
        "#confusion matrix for tfidf features\n",
        "cm_tfidf=confusion_matrix(test_sentiments,lr_tfidf_predict,labels=[1,0])\n",
        "print(cm_tfidf)"
      ],
      "execution_count": null,
      "outputs": [
        {
          "output_type": "stream",
          "text": [
            "[[4174  655]\n",
            " [ 169  874]]\n",
            "[[4726  103]\n",
            " [ 526  517]]\n"
          ],
          "name": "stdout"
        }
      ]
    },
    {
      "cell_type": "markdown",
      "metadata": {
        "id": "sxd6YK4tIYsT"
      },
      "source": [
        "**Testing the same Logistic regression model on our features set.**"
      ]
    },
    {
      "cell_type": "code",
      "metadata": {
        "colab": {
          "base_uri": "https://localhost:8080/"
        },
        "id": "seHl4P2VV1OA",
        "outputId": "5cf65967-cb7b-477f-9617-fc79adf53be0"
      },
      "source": [
        "#spliting our features data set into train and test.\n",
        "rating_file = file[[\"weighted_rating\"]]\n",
        "words_file = file[[\"words_count\"]]\n",
        "\n",
        "rate_train_data = rating_file[:trian_size]\n",
        "rate_test_data = rating_file[trian_size:]\n",
        "\n",
        "words_train_data = words_file[:trian_size]\n",
        "words_test_data = words_file[trian_size:]\n",
        "\n",
        "\n",
        "lr_rating=lr.fit(rate_train_data,train_sentiments)\n",
        "lr_words=lr.fit(words_train_data,train_sentiments)\n",
        "\n",
        "lr_rating_predict=lr.predict(rate_test_data)\n",
        "lr_words_predict=lr.predict(words_test_data)\n",
        "\n",
        "lr_rating_score=accuracy_score(test_sentiments,lr_rating_predict)\n",
        "lr_words_score=accuracy_score(test_sentiments,lr_words_predict)\n"
      ],
      "execution_count": null,
      "outputs": [
        {
          "output_type": "stream",
          "text": [
            "/usr/local/lib/python3.6/dist-packages/sklearn/utils/validation.py:760: DataConversionWarning: A column-vector y was passed when a 1d array was expected. Please change the shape of y to (n_samples, ), for example using ravel().\n",
            "  y = column_or_1d(y, warn=True)\n",
            "/usr/local/lib/python3.6/dist-packages/sklearn/utils/validation.py:760: DataConversionWarning: A column-vector y was passed when a 1d array was expected. Please change the shape of y to (n_samples, ), for example using ravel().\n",
            "  y = column_or_1d(y, warn=True)\n"
          ],
          "name": "stderr"
        }
      ]
    },
    {
      "cell_type": "code",
      "metadata": {
        "colab": {
          "base_uri": "https://localhost:8080/"
        },
        "id": "XGSD3AmEJ3Y0",
        "outputId": "7681cb92-ec0a-409b-b237-79890bc882a6"
      },
      "source": [
        "print(\"lr_training_score :\",lr_rating_score)\n",
        "print(\"lr_words_score :\",lr_words_score)"
      ],
      "execution_count": null,
      "outputs": [
        {
          "output_type": "stream",
          "text": [
            "lr_training_score : 0.8222070844686649\n",
            "lr_words_score : 0.8223773841961853\n"
          ],
          "name": "stdout"
        }
      ]
    },
    {
      "cell_type": "code",
      "metadata": {
        "colab": {
          "base_uri": "https://localhost:8080/"
        },
        "id": "3xBKYPo8L1MF",
        "outputId": "031ea14e-cb25-44e6-c4ab-e02998f70be7"
      },
      "source": [
        "#confusion matrix for ratings model\n",
        "cm_rating=confusion_matrix(test_sentiments,lr_rating_predict,labels=[1,0])\n",
        "print(cm_rating)\n",
        "#confusion matrix for couting words in review\n",
        "cm_words=confusion_matrix(test_sentiments,lr_words_predict,labels=[1,0])\n",
        "print(cm_words)"
      ],
      "execution_count": null,
      "outputs": [
        {
          "output_type": "stream",
          "text": [
            "[[4828    1]\n",
            " [1043    0]]\n",
            "[[4829    0]\n",
            " [1043    0]]\n"
          ],
          "name": "stdout"
        }
      ]
    },
    {
      "cell_type": "markdown",
      "metadata": {
        "id": "6ijeoJtjwV1j"
      },
      "source": [
        "### (4)  Conclusions\n",
        "*   As we can see , trying to predict the recomendation based on \"regualr\", analytic features , did not manage to predict better than the \"obvious\" model - a Model which will just predict \"positive recomendation\" all the time.\n",
        "We can see this very clearly in thier Confusion Matix.\n",
        "*   Even the basic LR model for BOW and TF-IDF , need to get some tuning. \n",
        "Only once minimzing the count vectorization to min_df =5 and loading large ngram , we have managed to get both model better than the 82%.\n",
        "\n",
        "*   As we saw, TF-IDF enabled ~89.3% accuracy, where BOW scored 85.9%. \n",
        "\n",
        "\n",
        "\n",
        "\n",
        "\n"
      ]
    },
    {
      "cell_type": "markdown",
      "metadata": {
        "id": "uQWW2_vKKJU-"
      },
      "source": [
        "# Question 4 - Deep learning classification"
      ]
    },
    {
      "cell_type": "code",
      "metadata": {
        "colab": {
          "base_uri": "https://localhost:8080/",
          "height": 717
        },
        "id": "pI1Y37FNKxGC",
        "outputId": "cfd91f1e-6857-46cf-875c-456404c4c285"
      },
      "source": [
        "file.head()"
      ],
      "execution_count": null,
      "outputs": [
        {
          "output_type": "execute_result",
          "data": {
            "text/html": [
              "<div>\n",
              "<style scoped>\n",
              "    .dataframe tbody tr th:only-of-type {\n",
              "        vertical-align: middle;\n",
              "    }\n",
              "\n",
              "    .dataframe tbody tr th {\n",
              "        vertical-align: top;\n",
              "    }\n",
              "\n",
              "    .dataframe thead th {\n",
              "        text-align: right;\n",
              "    }\n",
              "</style>\n",
              "<table border=\"1\" class=\"dataframe\">\n",
              "  <thead>\n",
              "    <tr style=\"text-align: right;\">\n",
              "      <th></th>\n",
              "      <th>id</th>\n",
              "      <th>reviewer_age</th>\n",
              "      <th>title</th>\n",
              "      <th>review_text</th>\n",
              "      <th>rating</th>\n",
              "      <th>recommended_ind</th>\n",
              "      <th>positive_feedback_count</th>\n",
              "      <th>div_name</th>\n",
              "      <th>dept_name</th>\n",
              "      <th>class</th>\n",
              "      <th>review</th>\n",
              "      <th>weighted_rating</th>\n",
              "      <th>words_count</th>\n",
              "    </tr>\n",
              "  </thead>\n",
              "  <tbody>\n",
              "    <tr>\n",
              "      <th>0</th>\n",
              "      <td>767</td>\n",
              "      <td>33</td>\n",
              "      <td></td>\n",
              "      <td>Absolutely wonderful - silky and sexy and comf...</td>\n",
              "      <td>4</td>\n",
              "      <td>1</td>\n",
              "      <td>0</td>\n",
              "      <td>Initmates</td>\n",
              "      <td>Intimate</td>\n",
              "      <td>Intimates</td>\n",
              "      <td>absolut wonder silki sexi comfort</td>\n",
              "      <td>4</td>\n",
              "      <td>8</td>\n",
              "    </tr>\n",
              "    <tr>\n",
              "      <th>1</th>\n",
              "      <td>1080</td>\n",
              "      <td>34</td>\n",
              "      <td></td>\n",
              "      <td>Love this dress!  it's sooo pretty.  i happene...</td>\n",
              "      <td>5</td>\n",
              "      <td>1</td>\n",
              "      <td>4</td>\n",
              "      <td>General</td>\n",
              "      <td>Dresses</td>\n",
              "      <td>Dresses</td>\n",
              "      <td>love dress sooo pretti happen find store glad ...</td>\n",
              "      <td>25</td>\n",
              "      <td>62</td>\n",
              "    </tr>\n",
              "    <tr>\n",
              "      <th>2</th>\n",
              "      <td>1077</td>\n",
              "      <td>60</td>\n",
              "      <td>Some major design flaws</td>\n",
              "      <td>I had such high hopes for this dress and reall...</td>\n",
              "      <td>3</td>\n",
              "      <td>0</td>\n",
              "      <td>0</td>\n",
              "      <td>General</td>\n",
              "      <td>Dresses</td>\n",
              "      <td>Dresses</td>\n",
              "      <td>major design flawsi high hope dress realli wan...</td>\n",
              "      <td>3</td>\n",
              "      <td>98</td>\n",
              "    </tr>\n",
              "    <tr>\n",
              "      <th>3</th>\n",
              "      <td>1049</td>\n",
              "      <td>50</td>\n",
              "      <td>My favorite buy!</td>\n",
              "      <td>I love, love, love this jumpsuit. it's fun, fl...</td>\n",
              "      <td>5</td>\n",
              "      <td>1</td>\n",
              "      <td>0</td>\n",
              "      <td>General Petite</td>\n",
              "      <td>Bottoms</td>\n",
              "      <td>Pants</td>\n",
              "      <td>favorit buy love love love jumpsuit fun flirti...</td>\n",
              "      <td>5</td>\n",
              "      <td>22</td>\n",
              "    </tr>\n",
              "    <tr>\n",
              "      <th>4</th>\n",
              "      <td>847</td>\n",
              "      <td>47</td>\n",
              "      <td>Flattering shirt</td>\n",
              "      <td>This shirt is very flattering to all due to th...</td>\n",
              "      <td>5</td>\n",
              "      <td>1</td>\n",
              "      <td>6</td>\n",
              "      <td>General</td>\n",
              "      <td>Tops</td>\n",
              "      <td>Blouses</td>\n",
              "      <td>flatter shirtthi shirt flatter due adjust fron...</td>\n",
              "      <td>35</td>\n",
              "      <td>36</td>\n",
              "    </tr>\n",
              "  </tbody>\n",
              "</table>\n",
              "</div>"
            ],
            "text/plain": [
              "     id  reviewer_age  ... weighted_rating words_count\n",
              "0   767            33  ...               4           8\n",
              "1  1080            34  ...              25          62\n",
              "2  1077            60  ...               3          98\n",
              "3  1049            50  ...               5          22\n",
              "4   847            47  ...              35          36\n",
              "\n",
              "[5 rows x 13 columns]"
            ]
          },
          "metadata": {
            "tags": []
          },
          "execution_count": 48
        }
      ]
    },
    {
      "cell_type": "code",
      "metadata": {
        "id": "6sramZnYKMVm"
      },
      "source": [
        "# Model configuration\n",
        "max_sequence_length = 100\n",
        "num_distinct_words = 10000\n",
        "embedding_output_dims = 15\n",
        "loss_function = 'binary_crossentropy'\n",
        "optimizer = 'adam'\n",
        "additional_metrics = ['accuracy']\n",
        "number_of_epochs = 100\n",
        "verbosity_mode = True\n",
        "validation_split = 0.20"
      ],
      "execution_count": null,
      "outputs": []
    },
    {
      "cell_type": "code",
      "metadata": {
        "id": "R1pMi3HRKm2P"
      },
      "source": [
        "cv=CountVectorizer()\n",
        "train_size = round(len(file.recommended_ind)/4 *3)   # Split to 75% of train andand 25% of test data\n",
        "x_train=cv.fit_transform(file.review[:train_size]).toarray() \n",
        "x_test=cv.transform(file.review[train_size:]).toarray()"
      ],
      "execution_count": null,
      "outputs": []
    },
    {
      "cell_type": "code",
      "metadata": {
        "colab": {
          "base_uri": "https://localhost:8080/"
        },
        "id": "b5o4hUa8Km5l",
        "outputId": "1fbf6fe6-1fc0-47f9-db1f-8740e80f81b3"
      },
      "source": [
        "print('BOW_cv_train:',x_train.shape) \n",
        "print('BOW_cv_test:',x_test.shape)"
      ],
      "execution_count": null,
      "outputs": [
        {
          "output_type": "stream",
          "text": [
            "BOW_cv_train: (17614, 15977)\n",
            "BOW_cv_test: (5872, 15977)\n"
          ],
          "name": "stdout"
        }
      ]
    },
    {
      "cell_type": "code",
      "metadata": {
        "id": "k_d2JQq4Km8t"
      },
      "source": [
        "lb=LabelBinarizer()\n",
        "lables=lb.fit_transform(file.recommended_ind)"
      ],
      "execution_count": null,
      "outputs": []
    },
    {
      "cell_type": "code",
      "metadata": {
        "colab": {
          "base_uri": "https://localhost:8080/"
        },
        "id": "CBswWkMNKm_h",
        "outputId": "e24db952-6fb2-499a-9164-dc8055f04a95"
      },
      "source": [
        "y_train=lil_matrix(lables[:train_size]).toarray() \n",
        "y_test=lables[train_size:] \n",
        "print('train_ratings:',y_train.shape) \n",
        "print('test_ratings:',y_test.shape)"
      ],
      "execution_count": null,
      "outputs": [
        {
          "output_type": "stream",
          "text": [
            "train_ratings: (17614, 1)\n",
            "test_ratings: (5872, 1)\n"
          ],
          "name": "stdout"
        }
      ]
    },
    {
      "cell_type": "code",
      "metadata": {
        "colab": {
          "base_uri": "https://localhost:8080/"
        },
        "id": "REo-dUZgKnI0",
        "outputId": "aebd2199-2772-444a-80d7-b407a25ee5db"
      },
      "source": [
        "max_sequence_length= x_train.shape[1] \n",
        "print('max_sequence_length', max_sequence_length)"
      ],
      "execution_count": null,
      "outputs": [
        {
          "output_type": "stream",
          "text": [
            "max_sequence_length 15977\n"
          ],
          "name": "stdout"
        }
      ]
    },
    {
      "cell_type": "code",
      "metadata": {
        "id": "oE7Rac8uKnXP"
      },
      "source": [
        "size_vec = [len(x) for x in x_train]"
      ],
      "execution_count": null,
      "outputs": []
    },
    {
      "cell_type": "code",
      "metadata": {
        "id": "dQYP33xTKndS"
      },
      "source": [
        "padded_inputs = pad_sequences(x_train, maxlen=max_sequence_length, value = 0.0)\n",
        "padded_inputs_test = pad_sequences(x_test, maxlen=max_sequence_length, value = 0.0)"
      ],
      "execution_count": null,
      "outputs": []
    },
    {
      "cell_type": "code",
      "metadata": {
        "id": "AiXGOyTIVIwR"
      },
      "source": [
        "# Define the Keras model\n",
        "model = Sequential()\n",
        "model.add(Embedding(num_distinct_words, embedding_output_dims, input_length=max_sequence_length))\n",
        "model.add(Dropout(0.50))\n",
        "model.add(Conv1D(filters=32, kernel_size=2, padding='same', activation='relu'))\n",
        "model.add(Dropout(0.50))\n",
        "model.add(MaxPooling1D(pool_size=2))\n",
        "model.add(Flatten())\n",
        "model.add(Dropout(0.50))\n",
        "model.add(Dense(1, activation='sigmoid'))"
      ],
      "execution_count": null,
      "outputs": []
    },
    {
      "cell_type": "code",
      "metadata": {
        "colab": {
          "base_uri": "https://localhost:8080/"
        },
        "id": "ISuF_J0QF-XW",
        "outputId": "6ea1f36f-271e-409e-b60a-81c0117ac7af"
      },
      "source": [
        "# Compile the model\n",
        "model.compile(optimizer=optimizer, loss=loss_function, metrics=additional_metrics)\n",
        "\n",
        "# Give a summary\n",
        "model.summary()\n",
        "\n",
        "# Train the model\n",
        "history = model.fit(padded_inputs, y_train, epochs=50, verbose=verbosity_mode, validation_split=validation_split)"
      ],
      "execution_count": null,
      "outputs": [
        {
          "output_type": "stream",
          "text": [
            "Model: \"sequential\"\n",
            "_________________________________________________________________\n",
            "Layer (type)                 Output Shape              Param #   \n",
            "=================================================================\n",
            "embedding (Embedding)        (None, 15977, 15)         150000    \n",
            "_________________________________________________________________\n",
            "dropout (Dropout)            (None, 15977, 15)         0         \n",
            "_________________________________________________________________\n",
            "conv1d (Conv1D)              (None, 15977, 32)         992       \n",
            "_________________________________________________________________\n",
            "dropout_1 (Dropout)          (None, 15977, 32)         0         \n",
            "_________________________________________________________________\n",
            "max_pooling1d (MaxPooling1D) (None, 7988, 32)          0         \n",
            "_________________________________________________________________\n",
            "flatten (Flatten)            (None, 255616)            0         \n",
            "_________________________________________________________________\n",
            "dropout_2 (Dropout)          (None, 255616)            0         \n",
            "_________________________________________________________________\n",
            "dense (Dense)                (None, 1)                 255617    \n",
            "=================================================================\n",
            "Total params: 406,609\n",
            "Trainable params: 406,609\n",
            "Non-trainable params: 0\n",
            "_________________________________________________________________\n",
            "Epoch 1/50\n",
            "441/441 [==============================] - 27s 44ms/step - loss: 0.4794 - accuracy: 0.8242 - val_loss: 0.3095 - val_accuracy: 0.8867\n",
            "Epoch 2/50\n",
            "441/441 [==============================] - 19s 43ms/step - loss: 0.2705 - accuracy: 0.8875 - val_loss: 0.2913 - val_accuracy: 0.8927\n",
            "Epoch 3/50\n",
            "441/441 [==============================] - 19s 43ms/step - loss: 0.2411 - accuracy: 0.9028 - val_loss: 0.2875 - val_accuracy: 0.8893\n",
            "Epoch 4/50\n",
            "441/441 [==============================] - 19s 43ms/step - loss: 0.2278 - accuracy: 0.9083 - val_loss: 0.2921 - val_accuracy: 0.8882\n",
            "Epoch 5/50\n",
            "441/441 [==============================] - 19s 43ms/step - loss: 0.2065 - accuracy: 0.9188 - val_loss: 0.2889 - val_accuracy: 0.8899\n",
            "Epoch 6/50\n",
            "441/441 [==============================] - 19s 43ms/step - loss: 0.1957 - accuracy: 0.9243 - val_loss: 0.2928 - val_accuracy: 0.8884\n",
            "Epoch 7/50\n",
            "441/441 [==============================] - 19s 43ms/step - loss: 0.1865 - accuracy: 0.9265 - val_loss: 0.2916 - val_accuracy: 0.8873\n",
            "Epoch 8/50\n",
            "441/441 [==============================] - 19s 43ms/step - loss: 0.1683 - accuracy: 0.9350 - val_loss: 0.2956 - val_accuracy: 0.8856\n",
            "Epoch 9/50\n",
            "441/441 [==============================] - 19s 43ms/step - loss: 0.1661 - accuracy: 0.9370 - val_loss: 0.2926 - val_accuracy: 0.8867\n",
            "Epoch 10/50\n",
            "441/441 [==============================] - 19s 43ms/step - loss: 0.1662 - accuracy: 0.9356 - val_loss: 0.3005 - val_accuracy: 0.8825\n",
            "Epoch 11/50\n",
            "441/441 [==============================] - 19s 43ms/step - loss: 0.1609 - accuracy: 0.9357 - val_loss: 0.3001 - val_accuracy: 0.8848\n",
            "Epoch 12/50\n",
            "441/441 [==============================] - 19s 43ms/step - loss: 0.1518 - accuracy: 0.9416 - val_loss: 0.3077 - val_accuracy: 0.8819\n",
            "Epoch 13/50\n",
            "441/441 [==============================] - 19s 43ms/step - loss: 0.1520 - accuracy: 0.9435 - val_loss: 0.3145 - val_accuracy: 0.8828\n",
            "Epoch 14/50\n",
            "441/441 [==============================] - 19s 43ms/step - loss: 0.1454 - accuracy: 0.9425 - val_loss: 0.3126 - val_accuracy: 0.8816\n",
            "Epoch 15/50\n",
            "441/441 [==============================] - 19s 43ms/step - loss: 0.1453 - accuracy: 0.9448 - val_loss: 0.3109 - val_accuracy: 0.8828\n",
            "Epoch 16/50\n",
            "441/441 [==============================] - 19s 43ms/step - loss: 0.1474 - accuracy: 0.9452 - val_loss: 0.3175 - val_accuracy: 0.8805\n",
            "Epoch 17/50\n",
            "441/441 [==============================] - 19s 43ms/step - loss: 0.1311 - accuracy: 0.9523 - val_loss: 0.3221 - val_accuracy: 0.8785\n",
            "Epoch 18/50\n",
            "441/441 [==============================] - 19s 43ms/step - loss: 0.1387 - accuracy: 0.9484 - val_loss: 0.3307 - val_accuracy: 0.8794\n",
            "Epoch 19/50\n",
            "441/441 [==============================] - 19s 43ms/step - loss: 0.1294 - accuracy: 0.9513 - val_loss: 0.3346 - val_accuracy: 0.8850\n",
            "Epoch 20/50\n",
            "441/441 [==============================] - 19s 43ms/step - loss: 0.1360 - accuracy: 0.9514 - val_loss: 0.3314 - val_accuracy: 0.8833\n",
            "Epoch 21/50\n",
            "441/441 [==============================] - 19s 43ms/step - loss: 0.1372 - accuracy: 0.9476 - val_loss: 0.3398 - val_accuracy: 0.8842\n",
            "Epoch 22/50\n",
            "441/441 [==============================] - 19s 43ms/step - loss: 0.1260 - accuracy: 0.9530 - val_loss: 0.3462 - val_accuracy: 0.8782\n",
            "Epoch 23/50\n",
            "441/441 [==============================] - 19s 43ms/step - loss: 0.1310 - accuracy: 0.9502 - val_loss: 0.3529 - val_accuracy: 0.8765\n",
            "Epoch 24/50\n",
            "441/441 [==============================] - 19s 43ms/step - loss: 0.1143 - accuracy: 0.9558 - val_loss: 0.3489 - val_accuracy: 0.8768\n",
            "Epoch 25/50\n",
            "441/441 [==============================] - 19s 43ms/step - loss: 0.1226 - accuracy: 0.9554 - val_loss: 0.3458 - val_accuracy: 0.8760\n",
            "Epoch 26/50\n",
            "441/441 [==============================] - 19s 43ms/step - loss: 0.1153 - accuracy: 0.9568 - val_loss: 0.3537 - val_accuracy: 0.8805\n",
            "Epoch 27/50\n",
            "441/441 [==============================] - 19s 43ms/step - loss: 0.1080 - accuracy: 0.9600 - val_loss: 0.3642 - val_accuracy: 0.8754\n",
            "Epoch 28/50\n",
            "441/441 [==============================] - 19s 43ms/step - loss: 0.1151 - accuracy: 0.9580 - val_loss: 0.3543 - val_accuracy: 0.8760\n",
            "Epoch 29/50\n",
            "441/441 [==============================] - 19s 43ms/step - loss: 0.1131 - accuracy: 0.9574 - val_loss: 0.3595 - val_accuracy: 0.8765\n",
            "Epoch 30/50\n",
            "441/441 [==============================] - 19s 43ms/step - loss: 0.1131 - accuracy: 0.9559 - val_loss: 0.3648 - val_accuracy: 0.8757\n",
            "Epoch 31/50\n",
            "441/441 [==============================] - 19s 43ms/step - loss: 0.1088 - accuracy: 0.9597 - val_loss: 0.3633 - val_accuracy: 0.8762\n",
            "Epoch 32/50\n",
            "441/441 [==============================] - 19s 43ms/step - loss: 0.1079 - accuracy: 0.9586 - val_loss: 0.3611 - val_accuracy: 0.8774\n",
            "Epoch 33/50\n",
            "441/441 [==============================] - 19s 43ms/step - loss: 0.1050 - accuracy: 0.9622 - val_loss: 0.3785 - val_accuracy: 0.8751\n",
            "Epoch 34/50\n",
            "441/441 [==============================] - 19s 43ms/step - loss: 0.1045 - accuracy: 0.9614 - val_loss: 0.3824 - val_accuracy: 0.8740\n",
            "Epoch 35/50\n",
            "441/441 [==============================] - 19s 43ms/step - loss: 0.1032 - accuracy: 0.9611 - val_loss: 0.3723 - val_accuracy: 0.8754\n",
            "Epoch 36/50\n",
            "441/441 [==============================] - 19s 43ms/step - loss: 0.1022 - accuracy: 0.9620 - val_loss: 0.3958 - val_accuracy: 0.8771\n",
            "Epoch 37/50\n",
            "441/441 [==============================] - 19s 43ms/step - loss: 0.1090 - accuracy: 0.9591 - val_loss: 0.3873 - val_accuracy: 0.8734\n",
            "Epoch 38/50\n",
            "441/441 [==============================] - 19s 43ms/step - loss: 0.1000 - accuracy: 0.9626 - val_loss: 0.3861 - val_accuracy: 0.8740\n",
            "Epoch 39/50\n",
            "441/441 [==============================] - 19s 43ms/step - loss: 0.0972 - accuracy: 0.9648 - val_loss: 0.3865 - val_accuracy: 0.8748\n",
            "Epoch 40/50\n",
            "441/441 [==============================] - 19s 43ms/step - loss: 0.0906 - accuracy: 0.9658 - val_loss: 0.4110 - val_accuracy: 0.8774\n",
            "Epoch 41/50\n",
            "441/441 [==============================] - 19s 43ms/step - loss: 0.1022 - accuracy: 0.9595 - val_loss: 0.4035 - val_accuracy: 0.8757\n",
            "Epoch 42/50\n",
            "441/441 [==============================] - 19s 43ms/step - loss: 0.0993 - accuracy: 0.9647 - val_loss: 0.4143 - val_accuracy: 0.8760\n",
            "Epoch 43/50\n",
            "441/441 [==============================] - 19s 43ms/step - loss: 0.0918 - accuracy: 0.9653 - val_loss: 0.4077 - val_accuracy: 0.8740\n",
            "Epoch 44/50\n",
            "441/441 [==============================] - 19s 43ms/step - loss: 0.0985 - accuracy: 0.9616 - val_loss: 0.4041 - val_accuracy: 0.8737\n",
            "Epoch 45/50\n",
            "441/441 [==============================] - 19s 44ms/step - loss: 0.0989 - accuracy: 0.9614 - val_loss: 0.3972 - val_accuracy: 0.8737\n",
            "Epoch 46/50\n",
            "441/441 [==============================] - 19s 43ms/step - loss: 0.0859 - accuracy: 0.9682 - val_loss: 0.4109 - val_accuracy: 0.8751\n",
            "Epoch 47/50\n",
            "441/441 [==============================] - 19s 43ms/step - loss: 0.0930 - accuracy: 0.9640 - val_loss: 0.3950 - val_accuracy: 0.8757\n",
            "Epoch 48/50\n",
            "441/441 [==============================] - 19s 43ms/step - loss: 0.0924 - accuracy: 0.9658 - val_loss: 0.4141 - val_accuracy: 0.8731\n",
            "Epoch 49/50\n",
            "441/441 [==============================] - 19s 43ms/step - loss: 0.0902 - accuracy: 0.9662 - val_loss: 0.4199 - val_accuracy: 0.8740\n",
            "Epoch 50/50\n",
            "441/441 [==============================] - 19s 43ms/step - loss: 0.0859 - accuracy: 0.9685 - val_loss: 0.4052 - val_accuracy: 0.8757\n"
          ],
          "name": "stdout"
        }
      ]
    },
    {
      "cell_type": "code",
      "metadata": {
        "colab": {
          "base_uri": "https://localhost:8080/"
        },
        "id": "OCA2vJbTGBqx",
        "outputId": "266347a7-6766-4448-f56a-77fc9ab4c571"
      },
      "source": [
        "# Test the model after training\n",
        "test_results = model.evaluate(padded_inputs_test, y_test, verbose=False)\n",
        "print(f'Test results - Loss: {test_results[0]} - Accuracy: {100*test_results[1]}%')"
      ],
      "execution_count": null,
      "outputs": [
        {
          "output_type": "stream",
          "text": [
            "Test results - Loss: 0.3803250789642334 - Accuracy: 88.21526169776917%\n"
          ],
          "name": "stdout"
        }
      ]
    },
    {
      "cell_type": "code",
      "metadata": {
        "colab": {
          "base_uri": "https://localhost:8080/",
          "height": 573
        },
        "id": "xkCWzGjVGbY9",
        "outputId": "43937f89-ad69-4c52-b900-566629b2305c"
      },
      "source": [
        "# Visualize history\n",
        "# Plot history: Validation loss\n",
        "plt.plot(history.history['val_loss'])\n",
        "plt.title('Validation loss history')\n",
        "plt.ylabel('Loss value')\n",
        "plt.xlabel('No. epoch')\n",
        "plt.show()\n",
        "\n",
        "# Plot history: Accuracy\n",
        "plt.plot(history.history['val_accuracy'])\n",
        "plt.title('Validation accuracy history')\n",
        "plt.ylabel('Accuracy value (%)')\n",
        "plt.xlabel('No. epoch')\n",
        "plt.show()"
      ],
      "execution_count": null,
      "outputs": [
        {
          "output_type": "display_data",
          "data": {
            "image/png": "[encoded data removed]",
            "text/plain": [
              "<Figure size 432x288 with 1 Axes>"
            ]
          },
          "metadata": {
            "tags": [],
            "needs_background": "light"
          }
        },
        {
          "output_type": "display_data",
          "data": {
            "image/png": "[encoded data removed]",
            "text/plain": [
              "<Figure size 432x288 with 1 Axes>"
            ]
          },
          "metadata": {
            "tags": [],
            "needs_background": "light"
          }
        }
      ]
    },
    {
      "cell_type": "markdown",
      "metadata": {
        "id": "yfqJLXXzrOa8"
      },
      "source": [
        "###Conclusions\n",
        "The deep learning model we got are significantly better than the LR model for BOW and TF-IDF models we ran on question 3.\n",
        "We can also see that we can use less epochs in order to echive results closer to 89%. Still this model works better for our business question"
      ]
    },
    {
      "cell_type": "markdown",
      "metadata": {
        "id": "EVYg8kZPIcF4"
      },
      "source": [
        "# Question 5 - BERT based classification"
      ]
    },
    {
      "cell_type": "code",
      "metadata": {
        "colab": {
          "base_uri": "https://localhost:8080/"
        },
        "id": "AWwz9h8jIlIY",
        "outputId": "116e4b34-3e3e-4f5f-968c-94ecb6bbc588"
      },
      "source": [
        "pip install transformers"
      ],
      "execution_count": null,
      "outputs": [
        {
          "output_type": "stream",
          "text": [
            "Collecting transformers\n",
            "\u001b[?25l  Downloading https://files.pythonhosted.org/packages/50/0c/7d5950fcd80b029be0a8891727ba21e0cd27692c407c51261c3c921f6da3/transformers-4.1.1-py3-none-any.whl (1.5MB)\n",
            "\u001b[K     |████████████████████████████████| 1.5MB 17.3MB/s \n",
            "\u001b[?25hCollecting sacremoses\n",
            "\u001b[?25l  Downloading https://files.pythonhosted.org/packages/7d/34/09d19aff26edcc8eb2a01bed8e98f13a1537005d31e95233fd48216eed10/sacremoses-0.0.43.tar.gz (883kB)\n",
            "\u001b[K     |████████████████████████████████| 890kB 54.3MB/s \n",
            "\u001b[?25hRequirement already satisfied: regex!=2019.12.17 in /usr/local/lib/python3.6/dist-packages (from transformers) (2019.12.20)\n",
            "Requirement already satisfied: dataclasses; python_version < \"3.7\" in /usr/local/lib/python3.6/dist-packages (from transformers) (0.8)\n",
            "Requirement already satisfied: filelock in /usr/local/lib/python3.6/dist-packages (from transformers) (3.0.12)\n",
            "Requirement already satisfied: packaging in /usr/local/lib/python3.6/dist-packages (from transformers) (20.8)\n",
            "Requirement already satisfied: numpy in /usr/local/lib/python3.6/dist-packages (from transformers) (1.19.5)\n",
            "Requirement already satisfied: requests in /usr/local/lib/python3.6/dist-packages (from transformers) (2.23.0)\n",
            "Requirement already satisfied: tqdm>=4.27 in /usr/local/lib/python3.6/dist-packages (from transformers) (4.41.1)\n",
            "Collecting tokenizers==0.9.4\n",
            "\u001b[?25l  Downloading https://files.pythonhosted.org/packages/0f/1c/e789a8b12e28be5bc1ce2156cf87cb522b379be9cadc7ad8091a4cc107c4/tokenizers-0.9.4-cp36-cp36m-manylinux2010_x86_64.whl (2.9MB)\n",
            "\u001b[K     |████████████████████████████████| 2.9MB 52.1MB/s \n",
            "\u001b[?25hRequirement already satisfied: six in /usr/local/lib/python3.6/dist-packages (from sacremoses->transformers) (1.15.0)\n",
            "Requirement already satisfied: click in /usr/local/lib/python3.6/dist-packages (from sacremoses->transformers) (7.1.2)\n",
            "Requirement already satisfied: joblib in /usr/local/lib/python3.6/dist-packages (from sacremoses->transformers) (1.0.0)\n",
            "Requirement already satisfied: pyparsing>=2.0.2 in /usr/local/lib/python3.6/dist-packages (from packaging->transformers) (2.4.7)\n",
            "Requirement already satisfied: idna<3,>=2.5 in /usr/local/lib/python3.6/dist-packages (from requests->transformers) (2.10)\n",
            "Requirement already satisfied: urllib3!=1.25.0,!=1.25.1,<1.26,>=1.21.1 in /usr/local/lib/python3.6/dist-packages (from requests->transformers) (1.24.3)\n",
            "Requirement already satisfied: chardet<4,>=3.0.2 in /usr/local/lib/python3.6/dist-packages (from requests->transformers) (3.0.4)\n",
            "Requirement already satisfied: certifi>=2017.4.17 in /usr/local/lib/python3.6/dist-packages (from requests->transformers) (2020.12.5)\n",
            "Building wheels for collected packages: sacremoses\n",
            "  Building wheel for sacremoses (setup.py) ... \u001b[?25l\u001b[?25hdone\n",
            "  Created wheel for sacremoses: filename=sacremoses-0.0.43-cp36-none-any.whl size=893261 sha256=4662883b6006008ce824052d76dbf0428a0b9a61eb1e1de32b3df04f5c51554f\n",
            "  Stored in directory: /root/.cache/pip/wheels/29/3c/fd/7ce5c3f0666dab31a50123635e6fb5e19ceb42ce38d4e58f45\n",
            "Successfully built sacremoses\n",
            "Installing collected packages: sacremoses, tokenizers, transformers\n",
            "Successfully installed sacremoses-0.0.43 tokenizers-0.9.4 transformers-4.1.1\n"
          ],
          "name": "stdout"
        }
      ]
    },
    {
      "cell_type": "code",
      "metadata": {
        "id": "d4rBSwhQIemq"
      },
      "source": [
        "from transformers import BertTokenizer, TFBertForSequenceClassification\n",
        "from transformers import InputExample, InputFeatures"
      ],
      "execution_count": null,
      "outputs": []
    },
    {
      "cell_type": "code",
      "metadata": {
        "colab": {
          "base_uri": "https://localhost:8080/",
          "height": 232,
          "referenced_widgets": [
            "51265d2362334931b99f5d1c46e4f20e",
            "751ca4025fab413db6c17f63094fa9f7",
            "0b13a8152ffb4e059cf83feef129e7d0",
            "9a825fc08c8949eca340ee03ec4e0397",
            "3a54517e6db847509c132b4f54d166aa",
            "cd86862ecc984dff8939d98f302ffaec",
            "3ce3a8c9de954669bce926d2d41d8472",
            "c7eb5f1d53324c1094def93f9c8030cb",
            "7f102ac721354656b512bcd4752a2596",
            "d0f9498c5ec94f1a803a2911c917690e",
            "0d108b7e671b4d9c93e96e2ebf636ab4",
            "09e5175dc6474c1d8f4d1df36af6a410",
            "f4c3c54787054a85a63092b2f9999ed3",
            "6c994253531b47b8900c6531832af8a8",
            "3f7095e7fca344079b0b0b5b09c7acf8",
            "333acb915f4648eea37a732bcdfd18df",
            "3edb46bb65ea4c08b65d18655ea1660b",
            "358a819c5d364beebec214fb5f38a4dc",
            "86eb32ac2ed14aefabe844e739fbc255",
            "63cb4a098439432d998f82f546a2629d",
            "bf97035c2bcb454e800ca60eaafb17db",
            "9b32a55e58c849b08f571e96a443f5e4",
            "ef71274239e44112ac730f7cfa66ea9a",
            "f841aff29c4e49a3ad7cdc9cb8de7c42"
          ]
        },
        "id": "waZ4fDyDIjUv",
        "outputId": "064eda74-908c-4a2c-c71f-2366d1c4b16d"
      },
      "source": [
        "model = TFBertForSequenceClassification.from_pretrained(\"bert-base-uncased\")\n",
        "tokenizer = BertTokenizer.from_pretrained(\"bert-base-uncased\")"
      ],
      "execution_count": null,
      "outputs": [
        {
          "output_type": "display_data",
          "data": {
            "application/vnd.jupyter.widget-view+json": {
              "model_id": "51265d2362334931b99f5d1c46e4f20e",
              "version_minor": 0,
              "version_major": 2
            },
            "text/plain": [
              "HBox(children=(FloatProgress(value=0.0, description='Downloading', max=433.0, style=ProgressStyle(description_…"
            ]
          },
          "metadata": {
            "tags": []
          }
        },
        {
          "output_type": "stream",
          "text": [
            "\n"
          ],
          "name": "stdout"
        },
        {
          "output_type": "display_data",
          "data": {
            "application/vnd.jupyter.widget-view+json": {
              "model_id": "7f102ac721354656b512bcd4752a2596",
              "version_minor": 0,
              "version_major": 2
            },
            "text/plain": [
              "HBox(children=(FloatProgress(value=0.0, description='Downloading', max=536063208.0, style=ProgressStyle(descri…"
            ]
          },
          "metadata": {
            "tags": []
          }
        },
        {
          "output_type": "stream",
          "text": [
            "\n"
          ],
          "name": "stdout"
        },
        {
          "output_type": "stream",
          "text": [
            "All model checkpoint layers were used when initializing TFBertForSequenceClassification.\n",
            "\n",
            "Some layers of TFBertForSequenceClassification were not initialized from the model checkpoint at bert-base-uncased and are newly initialized: ['classifier']\n",
            "You should probably TRAIN this model on a down-stream task to be able to use it for predictions and inference.\n"
          ],
          "name": "stderr"
        },
        {
          "output_type": "display_data",
          "data": {
            "application/vnd.jupyter.widget-view+json": {
              "model_id": "3edb46bb65ea4c08b65d18655ea1660b",
              "version_minor": 0,
              "version_major": 2
            },
            "text/plain": [
              "HBox(children=(FloatProgress(value=0.0, description='Downloading', max=231508.0, style=ProgressStyle(descripti…"
            ]
          },
          "metadata": {
            "tags": []
          }
        },
        {
          "output_type": "stream",
          "text": [
            "\n"
          ],
          "name": "stdout"
        }
      ]
    },
    {
      "cell_type": "code",
      "metadata": {
        "colab": {
          "base_uri": "https://localhost:8080/"
        },
        "id": "LfAxe6HqIvRN",
        "outputId": "ab0ef207-ebe5-4ffb-d8e4-dc69a5833fb2"
      },
      "source": [
        "model.summary()"
      ],
      "execution_count": null,
      "outputs": [
        {
          "output_type": "stream",
          "text": [
            "Model: \"tf_bert_for_sequence_classification\"\n",
            "_________________________________________________________________\n",
            "Layer (type)                 Output Shape              Param #   \n",
            "=================================================================\n",
            "bert (TFBertMainLayer)       multiple                  109482240 \n",
            "_________________________________________________________________\n",
            "dropout_40 (Dropout)         multiple                  0         \n",
            "_________________________________________________________________\n",
            "classifier (Dense)           multiple                  1538      \n",
            "=================================================================\n",
            "Total params: 109,483,778\n",
            "Trainable params: 109,483,778\n",
            "Non-trainable params: 0\n",
            "_________________________________________________________________\n"
          ],
          "name": "stdout"
        }
      ]
    },
    {
      "cell_type": "code",
      "metadata": {
        "colab": {
          "base_uri": "https://localhost:8080/",
          "height": 204
        },
        "id": "kzQ_qke-I071",
        "outputId": "51b235b8-2564-479a-f825-965a6289e05c"
      },
      "source": [
        "train = file[['review', 'recommended_ind']][:train_size]\n",
        "train.columns = ['DATA_COLUMN', 'LABEL_COLUMN']\n",
        "train.head()"
      ],
      "execution_count": null,
      "outputs": [
        {
          "output_type": "execute_result",
          "data": {
            "text/html": [
              "<div>\n",
              "<style scoped>\n",
              "    .dataframe tbody tr th:only-of-type {\n",
              "        vertical-align: middle;\n",
              "    }\n",
              "\n",
              "    .dataframe tbody tr th {\n",
              "        vertical-align: top;\n",
              "    }\n",
              "\n",
              "    .dataframe thead th {\n",
              "        text-align: right;\n",
              "    }\n",
              "</style>\n",
              "<table border=\"1\" class=\"dataframe\">\n",
              "  <thead>\n",
              "    <tr style=\"text-align: right;\">\n",
              "      <th></th>\n",
              "      <th>DATA_COLUMN</th>\n",
              "      <th>LABEL_COLUMN</th>\n",
              "    </tr>\n",
              "  </thead>\n",
              "  <tbody>\n",
              "    <tr>\n",
              "      <th>0</th>\n",
              "      <td>absolut wonder silki sexi comfort</td>\n",
              "      <td>1</td>\n",
              "    </tr>\n",
              "    <tr>\n",
              "      <th>1</th>\n",
              "      <td>love dress sooo pretti happen find store glad ...</td>\n",
              "      <td>1</td>\n",
              "    </tr>\n",
              "    <tr>\n",
              "      <th>2</th>\n",
              "      <td>major design flawsi high hope dress realli wan...</td>\n",
              "      <td>0</td>\n",
              "    </tr>\n",
              "    <tr>\n",
              "      <th>3</th>\n",
              "      <td>favorit buy love love love jumpsuit fun flirti...</td>\n",
              "      <td>1</td>\n",
              "    </tr>\n",
              "    <tr>\n",
              "      <th>4</th>\n",
              "      <td>flatter shirtthi shirt flatter due adjust fron...</td>\n",
              "      <td>1</td>\n",
              "    </tr>\n",
              "  </tbody>\n",
              "</table>\n",
              "</div>"
            ],
            "text/plain": [
              "                                         DATA_COLUMN  LABEL_COLUMN\n",
              "0                  absolut wonder silki sexi comfort             1\n",
              "1  love dress sooo pretti happen find store glad ...             1\n",
              "2  major design flawsi high hope dress realli wan...             0\n",
              "3  favorit buy love love love jumpsuit fun flirti...             1\n",
              "4  flatter shirtthi shirt flatter due adjust fron...             1"
            ]
          },
          "metadata": {
            "tags": []
          },
          "execution_count": 65
        }
      ]
    },
    {
      "cell_type": "code",
      "metadata": {
        "colab": {
          "base_uri": "https://localhost:8080/",
          "height": 204
        },
        "id": "6Y-qfzniYFAV",
        "outputId": "c62478b7-0bfb-4e83-cd4d-23495d7349b1"
      },
      "source": [
        "test = file[['review', 'recommended_ind']][train_size:]\n",
        "test.columns = ['DATA_COLUMN', 'LABEL_COLUMN']\n",
        "test.head()"
      ],
      "execution_count": null,
      "outputs": [
        {
          "output_type": "execute_result",
          "data": {
            "text/html": [
              "<div>\n",
              "<style scoped>\n",
              "    .dataframe tbody tr th:only-of-type {\n",
              "        vertical-align: middle;\n",
              "    }\n",
              "\n",
              "    .dataframe tbody tr th {\n",
              "        vertical-align: top;\n",
              "    }\n",
              "\n",
              "    .dataframe thead th {\n",
              "        text-align: right;\n",
              "    }\n",
              "</style>\n",
              "<table border=\"1\" class=\"dataframe\">\n",
              "  <thead>\n",
              "    <tr style=\"text-align: right;\">\n",
              "      <th></th>\n",
              "      <th>DATA_COLUMN</th>\n",
              "      <th>LABEL_COLUMN</th>\n",
              "    </tr>\n",
              "  </thead>\n",
              "  <tbody>\n",
              "    <tr>\n",
              "      <th>17614</th>\n",
              "      <td>great skirt bad craftmanshipalreadi got lot co...</td>\n",
              "      <td>1</td>\n",
              "    </tr>\n",
              "    <tr>\n",
              "      <th>17615</th>\n",
              "      <td>dress teethi top eye catcher bat love noth dre...</td>\n",
              "      <td>1</td>\n",
              "    </tr>\n",
              "    <tr>\n",
              "      <th>17616</th>\n",
              "      <td>great shirti bought green dark teal fabric sof...</td>\n",
              "      <td>1</td>\n",
              "    </tr>\n",
              "    <tr>\n",
              "      <th>17617</th>\n",
              "      <td>normal wear medium everyth bet xs would mayb f...</td>\n",
              "      <td>0</td>\n",
              "    </tr>\n",
              "    <tr>\n",
              "      <th>17618</th>\n",
              "      <td>comfort amp styleth shirt fit loos baggi beaut...</td>\n",
              "      <td>1</td>\n",
              "    </tr>\n",
              "  </tbody>\n",
              "</table>\n",
              "</div>"
            ],
            "text/plain": [
              "                                             DATA_COLUMN  LABEL_COLUMN\n",
              "17614  great skirt bad craftmanshipalreadi got lot co...             1\n",
              "17615  dress teethi top eye catcher bat love noth dre...             1\n",
              "17616  great shirti bought green dark teal fabric sof...             1\n",
              "17617  normal wear medium everyth bet xs would mayb f...             0\n",
              "17618  comfort amp styleth shirt fit loos baggi beaut...             1"
            ]
          },
          "metadata": {
            "tags": []
          },
          "execution_count": 66
        }
      ]
    },
    {
      "cell_type": "code",
      "metadata": {
        "id": "HAc8oYzkYFEL"
      },
      "source": [
        "def convert_data_to_examples(train, test, DATA_COLUMN, LABEL_COLUMN): \n",
        "  train_InputExamples = train.apply(lambda x: InputExample(guid=None, # Globally unique ID for bookkeeping, unused in this case\n",
        "                                                          text_a = x[DATA_COLUMN], \n",
        "                                                          text_b = None,\n",
        "                                                          label = x[LABEL_COLUMN]), axis = 1)\n",
        "\n",
        "  validation_InputExamples = test.apply(lambda x: InputExample(guid=None, # Globally unique ID for bookkeeping, unused in this case\n",
        "                                                          text_a = x[DATA_COLUMN], \n",
        "                                                          text_b = None,\n",
        "                                                          label = x[LABEL_COLUMN]), axis = 1)\n",
        "  \n",
        "  return train_InputExamples, validation_InputExamples\n",
        "\n",
        "  # train_InputExamples, validation_InputExamples = convert_data_to_examples(train, \n",
        "  #                                                                          test, \n",
        "  #                                                                          'DATA_COLUMN', \n",
        "  #                                                                          'LABEL_COLUMN')\n",
        "  \n",
        "def convert_examples_to_tf_dataset(examples, tokenizer, max_length=128):\n",
        "    features = [] # -> will hold InputFeatures to be converted later\n",
        "\n",
        "    for e in examples:\n",
        "        # Documentation is really strong for this method, so please take a look at it\n",
        "        input_dict = tokenizer.encode_plus(\n",
        "            e.text_a,\n",
        "            add_special_tokens=True,\n",
        "            max_length=max_length, # truncates if len(s) > max_length\n",
        "            return_token_type_ids=True,\n",
        "            return_attention_mask=True,\n",
        "            pad_to_max_length=True, # pads to the right by default # CHECK THIS for pad_to_max_length\n",
        "            truncation=True\n",
        "        )\n",
        "\n",
        "        input_ids, token_type_ids, attention_mask = (input_dict[\"input_ids\"],\n",
        "            input_dict[\"token_type_ids\"], input_dict['attention_mask'])\n",
        "\n",
        "        features.append(\n",
        "            InputFeatures(\n",
        "                input_ids=input_ids, attention_mask=attention_mask, token_type_ids=token_type_ids, label=e.label\n",
        "            )\n",
        "        )\n",
        "\n",
        "    def gen():\n",
        "        for f in features:\n",
        "            yield (\n",
        "                {\n",
        "                    \"input_ids\": f.input_ids,\n",
        "                    \"attention_mask\": f.attention_mask,\n",
        "                    \"token_type_ids\": f.token_type_ids,\n",
        "                },\n",
        "                f.label,\n",
        "            )\n",
        "\n",
        "    return tf.data.Dataset.from_generator(\n",
        "        gen,\n",
        "        ({\"input_ids\": tf.int32, \"attention_mask\": tf.int32, \"token_type_ids\": tf.int32}, tf.int64),\n",
        "        (\n",
        "            {\n",
        "                \"input_ids\": tf.TensorShape([None]),\n",
        "                \"attention_mask\": tf.TensorShape([None]),\n",
        "                \"token_type_ids\": tf.TensorShape([None]),\n",
        "            },\n",
        "            tf.TensorShape([]),\n",
        "        ),\n",
        "    )"
      ],
      "execution_count": null,
      "outputs": []
    },
    {
      "cell_type": "code",
      "metadata": {
        "id": "gK6AkUx_aE52"
      },
      "source": [
        "DATA_COLUMN = 'DATA_COLUMN'\n",
        "LABEL_COLUMN = 'LABEL_COLUMN'\n",
        "train_InputExamples, validation_InputExamples = convert_data_to_examples(train, test, DATA_COLUMN, LABEL_COLUMN)"
      ],
      "execution_count": null,
      "outputs": []
    },
    {
      "cell_type": "code",
      "metadata": {
        "colab": {
          "base_uri": "https://localhost:8080/"
        },
        "id": "sx_nK6C-YKAP",
        "outputId": "c0e2dc5c-1cc1-4ab4-86e5-9580dab2ceb3"
      },
      "source": [
        "train_data = convert_examples_to_tf_dataset(list(train_InputExamples), tokenizer)\n",
        "train_data = train_data.shuffle(100).batch(32).repeat(2)\n",
        "\n",
        "validation_data = convert_examples_to_tf_dataset(list(validation_InputExamples), tokenizer)\n",
        "validation_data = validation_data.batch(32)"
      ],
      "execution_count": null,
      "outputs": [
        {
          "output_type": "stream",
          "text": [
            "/usr/local/lib/python3.6/dist-packages/transformers/tokenization_utils_base.py:2179: FutureWarning: The `pad_to_max_length` argument is deprecated and will be removed in a future version, use `padding=True` or `padding='longest'` to pad to the longest sequence in the batch, or use `padding='max_length'` to pad to a max length. In this case, you can give a specific length with `max_length` (e.g. `max_length=45`) or leave max_length to None to pad to the maximal input size of the model (e.g. 512 for Bert).\n",
            "  FutureWarning,\n"
          ],
          "name": "stderr"
        }
      ]
    },
    {
      "cell_type": "code",
      "metadata": {
        "colab": {
          "base_uri": "https://localhost:8080/"
        },
        "id": "rAB47GVeYP2V",
        "outputId": "32501c51-6320-42ce-d3ac-7b0c720f7edb"
      },
      "source": [
        "model.compile(optimizer=tf.keras.optimizers.Adam(learning_rate=3e-5, epsilon=1e-08, clipnorm=1.0), \n",
        "              loss=tf.keras.losses.SparseCategoricalCrossentropy(from_logits=True), \n",
        "              metrics=[tf.keras.metrics.SparseCategoricalAccuracy('accuracy')])\n",
        "\n",
        "model.fit(train_data, epochs=2, validation_data=validation_data)"
      ],
      "execution_count": null,
      "outputs": [
        {
          "output_type": "stream",
          "text": [
            "Epoch 1/2\n",
            "WARNING:tensorflow:AutoGraph could not transform <bound method Socket.send of <zmq.sugar.socket.Socket object at 0x7fae17de85f8>> and will run it as-is.\n",
            "Please report this to the TensorFlow team. When filing the bug, set the verbosity to 10 (on Linux, `export AUTOGRAPH_VERBOSITY=10`) and attach the full output.\n",
            "Cause: <cyfunction Socket.send at 0x7fae35795d90> is not a module, class, method, function, traceback, frame, or code object\n",
            "To silence this warning, decorate the function with @tf.autograph.experimental.do_not_convert\n",
            "WARNING: AutoGraph could not transform <bound method Socket.send of <zmq.sugar.socket.Socket object at 0x7fae17de85f8>> and will run it as-is.\n",
            "Please report this to the TensorFlow team. When filing the bug, set the verbosity to 10 (on Linux, `export AUTOGRAPH_VERBOSITY=10`) and attach the full output.\n",
            "Cause: <cyfunction Socket.send at 0x7fae35795d90> is not a module, class, method, function, traceback, frame, or code object\n",
            "To silence this warning, decorate the function with @tf.autograph.experimental.do_not_convert\n"
          ],
          "name": "stdout"
        },
        {
          "output_type": "stream",
          "text": [
            "The parameters `output_attentions`, `output_hidden_states` and `use_cache` cannot be updated when calling a model.They have to be set to True/False in the config object (i.e.: `config=XConfig.from_pretrained('name', output_attentions=True)`).\n"
          ],
          "name": "stderr"
        },
        {
          "output_type": "stream",
          "text": [
            "WARNING:tensorflow:AutoGraph could not transform <function wrap at 0x7fae331258c8> and will run it as-is.\n",
            "Cause: while/else statement not yet supported\n",
            "To silence this warning, decorate the function with @tf.autograph.experimental.do_not_convert\n"
          ],
          "name": "stdout"
        },
        {
          "output_type": "stream",
          "text": [
            "The parameter `return_dict` cannot be set in graph mode and will always be set to `True`.\n"
          ],
          "name": "stderr"
        },
        {
          "output_type": "stream",
          "text": [
            "WARNING: AutoGraph could not transform <function wrap at 0x7fae331258c8> and will run it as-is.\n",
            "Cause: while/else statement not yet supported\n",
            "To silence this warning, decorate the function with @tf.autograph.experimental.do_not_convert\n"
          ],
          "name": "stdout"
        },
        {
          "output_type": "stream",
          "text": [
            "The parameters `output_attentions`, `output_hidden_states` and `use_cache` cannot be updated when calling a model.They have to be set to True/False in the config object (i.e.: `config=XConfig.from_pretrained('name', output_attentions=True)`).\n",
            "The parameter `return_dict` cannot be set in graph mode and will always be set to `True`.\n"
          ],
          "name": "stderr"
        },
        {
          "output_type": "stream",
          "text": [
            "   1102/Unknown - 942s 817ms/step - loss: 0.3018 - accuracy: 0.8736"
          ],
          "name": "stdout"
        },
        {
          "output_type": "stream",
          "text": [
            "The parameters `output_attentions`, `output_hidden_states` and `use_cache` cannot be updated when calling a model.They have to be set to True/False in the config object (i.e.: `config=XConfig.from_pretrained('name', output_attentions=True)`).\n",
            "The parameter `return_dict` cannot be set in graph mode and will always be set to `True`.\n"
          ],
          "name": "stderr"
        },
        {
          "output_type": "stream",
          "text": [
            "\b\b\b\b\b\b\b\b\b\b\b\b\b\b\b\b\b\b\b\b\b\b\b\b\b\b\b\b\b\b\b\b\b\b\b\b\b\b\b\b\b\b\b\b\b\b\b\b\b\b\b\b\b\b\b\b\b\b\b\b\b\b\b\b\b\b\b\r1102/1102 [==============================] - 997s 866ms/step - loss: 0.3018 - accuracy: 0.8737 - val_loss: 0.2392 - val_accuracy: 0.8985\n",
            "Epoch 2/2\n",
            "1102/1102 [==============================] - 954s 865ms/step - loss: 0.1367 - accuracy: 0.9492 - val_loss: 0.3323 - val_accuracy: 0.9017\n"
          ],
          "name": "stdout"
        },
        {
          "output_type": "execute_result",
          "data": {
            "text/plain": [
              "<tensorflow.python.keras.callbacks.History at 0x7fad75550b38>"
            ]
          },
          "metadata": {
            "tags": []
          },
          "execution_count": 70
        }
      ]
    },
    {
      "cell_type": "code",
      "metadata": {
        "id": "N6wRHV-ggdKb",
        "colab": {
          "base_uri": "https://localhost:8080/"
        },
        "outputId": "294a934f-985d-49b0-9a89-b4f0b7888b16"
      },
      "source": [
        "bert_results = model.evaluate(validation_data)\n",
        "print(f'Test results - Loss: {bert_results[0]} - Accuracy: {100*bert_results[1]}%')"
      ],
      "execution_count": null,
      "outputs": [
        {
          "output_type": "stream",
          "text": [
            "184/184 [==============================] - 52s 285ms/step - loss: 0.3323 - accuracy: 0.9017\n",
            "Test results - Loss: 0.3322567939758301 - Accuracy: 90.17370343208313%\n"
          ],
          "name": "stdout"
        }
      ]
    },
    {
      "cell_type": "markdown",
      "metadata": {
        "id": "89HJesZZq0R4"
      },
      "source": [
        "###Conclusions\n",
        "We can see that the BERT model got the best accuracy out of all of the models we trained with accuracy of a bit over 90%.\n",
        "This model however takes much more time (and we only trained 2 epochs) so the question of which model to choose is a matter of resources, though the BERT model is preffered."
      ]
    }
  ]
}